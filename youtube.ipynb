{
  "nbformat": 4,
  "nbformat_minor": 0,
  "metadata": {
    "colab": {
      "name": "youtube",
      "provenance": []
    },
    "kernelspec": {
      "name": "python3",
      "display_name": "Python 3"
    },
    "language_info": {
      "name": "python"
    }
  },
  "cells": [
    {
      "cell_type": "code",
      "metadata": {
        "id": "GHxCG1AieaaT"
      },
      "source": [
        "import pandas as pd\n",
        "import numpy as np\n",
        "import seaborn as sns\n",
        "import matplotlib.pyplot as plt"
      ],
      "execution_count": null,
      "outputs": []
    },
    {
      "cell_type": "code",
      "metadata": {
        "colab": {
          "base_uri": "https://localhost:8080/",
          "height": 306
        },
        "id": "X-d8TrDBesi1",
        "outputId": "fcdec4b9-f99f-4021-b518-62e88f27c6fe"
      },
      "source": [
        "data = pd.read_excel('Data.xlsx', sheet_name='dataset')\n",
        "data.head()"
      ],
      "execution_count": null,
      "outputs": [
        {
          "output_type": "execute_result",
          "data": {
            "text/html": [
              "<div>\n",
              "<style scoped>\n",
              "    .dataframe tbody tr th:only-of-type {\n",
              "        vertical-align: middle;\n",
              "    }\n",
              "\n",
              "    .dataframe tbody tr th {\n",
              "        vertical-align: top;\n",
              "    }\n",
              "\n",
              "    .dataframe thead th {\n",
              "        text-align: right;\n",
              "    }\n",
              "</style>\n",
              "<table border=\"1\" class=\"dataframe\">\n",
              "  <thead>\n",
              "    <tr style=\"text-align: right;\">\n",
              "      <th></th>\n",
              "      <th>Url</th>\n",
              "      <th>Title</th>\n",
              "      <th>Country of IP</th>\n",
              "      <th>Search term</th>\n",
              "      <th>Rank</th>\n",
              "      <th>Geopolitical stance</th>\n",
              "      <th>Video stance</th>\n",
              "      <th>2020 Pew Net Favourable</th>\n",
              "      <th>2019 Pew Net Favourable</th>\n",
              "      <th>2018 Pew Net Favourable</th>\n",
              "      <th>2017 Pew Net Favourable</th>\n",
              "    </tr>\n",
              "  </thead>\n",
              "  <tbody>\n",
              "    <tr>\n",
              "      <th>0</th>\n",
              "      <td>https://www.youtube.com/watch?v=U3YBomwuB10</td>\n",
              "      <td>What's China's 're-education camp' in Xinjiang...</td>\n",
              "      <td>Italy</td>\n",
              "      <td>Xinjiang</td>\n",
              "      <td>1</td>\n",
              "      <td>None</td>\n",
              "      <td>Pro-China</td>\n",
              "      <td>-24</td>\n",
              "      <td>-20</td>\n",
              "      <td>-31</td>\n",
              "      <td>-28</td>\n",
              "    </tr>\n",
              "    <tr>\n",
              "      <th>1</th>\n",
              "      <td>https://www.youtube.com/watch?v=lOhldJyDFck</td>\n",
              "      <td>Chinese musical whitewashes human-rights abuse...</td>\n",
              "      <td>Italy</td>\n",
              "      <td>Xinjiang</td>\n",
              "      <td>2</td>\n",
              "      <td>None</td>\n",
              "      <td>Critical</td>\n",
              "      <td>-24</td>\n",
              "      <td>-20</td>\n",
              "      <td>-31</td>\n",
              "      <td>-28</td>\n",
              "    </tr>\n",
              "    <tr>\n",
              "      <th>2</th>\n",
              "      <td>https://www.youtube.com/watch?v=1id-rhHp2wc</td>\n",
              "      <td>China's Xinjiang Cotton Drama Explained</td>\n",
              "      <td>Italy</td>\n",
              "      <td>Xinjiang</td>\n",
              "      <td>3</td>\n",
              "      <td>None</td>\n",
              "      <td>Critical</td>\n",
              "      <td>-24</td>\n",
              "      <td>-20</td>\n",
              "      <td>-31</td>\n",
              "      <td>-28</td>\n",
              "    </tr>\n",
              "    <tr>\n",
              "      <th>3</th>\n",
              "      <td>https://www.youtube.com/watch?v=v_XI-aiCa34</td>\n",
              "      <td>Western media’s disinformation campaign: two t...</td>\n",
              "      <td>Italy</td>\n",
              "      <td>Xinjiang</td>\n",
              "      <td>4</td>\n",
              "      <td>None</td>\n",
              "      <td>Pro-China</td>\n",
              "      <td>-24</td>\n",
              "      <td>-20</td>\n",
              "      <td>-31</td>\n",
              "      <td>-28</td>\n",
              "    </tr>\n",
              "    <tr>\n",
              "      <th>4</th>\n",
              "      <td>https://www.youtube.com/watch?v=yUg-w0tdyBs</td>\n",
              "      <td>Explainer: Why Xinjiang is so important to China</td>\n",
              "      <td>Italy</td>\n",
              "      <td>Xinjiang</td>\n",
              "      <td>5</td>\n",
              "      <td>None</td>\n",
              "      <td>Balanced</td>\n",
              "      <td>-24</td>\n",
              "      <td>-20</td>\n",
              "      <td>-31</td>\n",
              "      <td>-28</td>\n",
              "    </tr>\n",
              "  </tbody>\n",
              "</table>\n",
              "</div>"
            ],
            "text/plain": [
              "                                           Url  ... 2017 Pew Net Favourable\n",
              "0  https://www.youtube.com/watch?v=U3YBomwuB10  ...                     -28\n",
              "1  https://www.youtube.com/watch?v=lOhldJyDFck  ...                     -28\n",
              "2  https://www.youtube.com/watch?v=1id-rhHp2wc  ...                     -28\n",
              "3  https://www.youtube.com/watch?v=v_XI-aiCa34  ...                     -28\n",
              "4  https://www.youtube.com/watch?v=yUg-w0tdyBs  ...                     -28\n",
              "\n",
              "[5 rows x 11 columns]"
            ]
          },
          "metadata": {
            "tags": []
          },
          "execution_count": 5
        }
      ]
    },
    {
      "cell_type": "code",
      "metadata": {
        "colab": {
          "base_uri": "https://localhost:8080/"
        },
        "id": "al77F26H0oVI",
        "outputId": "ce1f3426-6366-4eaf-dd9d-c85bb26cc62f"
      },
      "source": [
        "list(data.columns)"
      ],
      "execution_count": null,
      "outputs": [
        {
          "output_type": "execute_result",
          "data": {
            "text/plain": [
              "['Url',\n",
              " 'Title',\n",
              " 'Country of IP',\n",
              " 'Search term',\n",
              " 'Rank',\n",
              " 'Geopolitical stance',\n",
              " 'Video stance',\n",
              " '2020 Pew Net Favourable',\n",
              " '2019 Pew Net Favourable',\n",
              " '2018 Pew Net Favourable',\n",
              " '2017 Pew Net Favourable']"
            ]
          },
          "metadata": {
            "tags": []
          },
          "execution_count": 6
        }
      ]
    },
    {
      "cell_type": "code",
      "metadata": {
        "colab": {
          "base_uri": "https://localhost:8080/",
          "height": 204
        },
        "id": "gsz_n4gx04c-",
        "outputId": "d3c9de79-fc9d-487f-f813-9fbfd6fe4856"
      },
      "source": [
        "new_cols = ['url', \n",
        "            'title', \n",
        "            'country', \n",
        "            'term', \n",
        "            'rank', \n",
        "            'pol_stance',\n",
        "            'vid_stance',\n",
        "            'pew_2020', \n",
        "            'pew_2019',\n",
        "            'pew_2018', \n",
        "            'pew_2017'] \n",
        "data.columns = new_cols\n",
        "data.head()"
      ],
      "execution_count": null,
      "outputs": [
        {
          "output_type": "execute_result",
          "data": {
            "text/html": [
              "<div>\n",
              "<style scoped>\n",
              "    .dataframe tbody tr th:only-of-type {\n",
              "        vertical-align: middle;\n",
              "    }\n",
              "\n",
              "    .dataframe tbody tr th {\n",
              "        vertical-align: top;\n",
              "    }\n",
              "\n",
              "    .dataframe thead th {\n",
              "        text-align: right;\n",
              "    }\n",
              "</style>\n",
              "<table border=\"1\" class=\"dataframe\">\n",
              "  <thead>\n",
              "    <tr style=\"text-align: right;\">\n",
              "      <th></th>\n",
              "      <th>url</th>\n",
              "      <th>title</th>\n",
              "      <th>country</th>\n",
              "      <th>term</th>\n",
              "      <th>rank</th>\n",
              "      <th>pol_stance</th>\n",
              "      <th>vid_stance</th>\n",
              "      <th>pew_2020</th>\n",
              "      <th>pew_2019</th>\n",
              "      <th>pew_2018</th>\n",
              "      <th>pew_2017</th>\n",
              "    </tr>\n",
              "  </thead>\n",
              "  <tbody>\n",
              "    <tr>\n",
              "      <th>0</th>\n",
              "      <td>https://www.youtube.com/watch?v=U3YBomwuB10</td>\n",
              "      <td>What's China's 're-education camp' in Xinjiang...</td>\n",
              "      <td>Italy</td>\n",
              "      <td>Xinjiang</td>\n",
              "      <td>1</td>\n",
              "      <td>None</td>\n",
              "      <td>Pro-China</td>\n",
              "      <td>-24</td>\n",
              "      <td>-20</td>\n",
              "      <td>-31</td>\n",
              "      <td>-28</td>\n",
              "    </tr>\n",
              "    <tr>\n",
              "      <th>1</th>\n",
              "      <td>https://www.youtube.com/watch?v=lOhldJyDFck</td>\n",
              "      <td>Chinese musical whitewashes human-rights abuse...</td>\n",
              "      <td>Italy</td>\n",
              "      <td>Xinjiang</td>\n",
              "      <td>2</td>\n",
              "      <td>None</td>\n",
              "      <td>Critical</td>\n",
              "      <td>-24</td>\n",
              "      <td>-20</td>\n",
              "      <td>-31</td>\n",
              "      <td>-28</td>\n",
              "    </tr>\n",
              "    <tr>\n",
              "      <th>2</th>\n",
              "      <td>https://www.youtube.com/watch?v=1id-rhHp2wc</td>\n",
              "      <td>China's Xinjiang Cotton Drama Explained</td>\n",
              "      <td>Italy</td>\n",
              "      <td>Xinjiang</td>\n",
              "      <td>3</td>\n",
              "      <td>None</td>\n",
              "      <td>Critical</td>\n",
              "      <td>-24</td>\n",
              "      <td>-20</td>\n",
              "      <td>-31</td>\n",
              "      <td>-28</td>\n",
              "    </tr>\n",
              "    <tr>\n",
              "      <th>3</th>\n",
              "      <td>https://www.youtube.com/watch?v=v_XI-aiCa34</td>\n",
              "      <td>Western media’s disinformation campaign: two t...</td>\n",
              "      <td>Italy</td>\n",
              "      <td>Xinjiang</td>\n",
              "      <td>4</td>\n",
              "      <td>None</td>\n",
              "      <td>Pro-China</td>\n",
              "      <td>-24</td>\n",
              "      <td>-20</td>\n",
              "      <td>-31</td>\n",
              "      <td>-28</td>\n",
              "    </tr>\n",
              "    <tr>\n",
              "      <th>4</th>\n",
              "      <td>https://www.youtube.com/watch?v=yUg-w0tdyBs</td>\n",
              "      <td>Explainer: Why Xinjiang is so important to China</td>\n",
              "      <td>Italy</td>\n",
              "      <td>Xinjiang</td>\n",
              "      <td>5</td>\n",
              "      <td>None</td>\n",
              "      <td>Balanced</td>\n",
              "      <td>-24</td>\n",
              "      <td>-20</td>\n",
              "      <td>-31</td>\n",
              "      <td>-28</td>\n",
              "    </tr>\n",
              "  </tbody>\n",
              "</table>\n",
              "</div>"
            ],
            "text/plain": [
              "                                           url  ... pew_2017\n",
              "0  https://www.youtube.com/watch?v=U3YBomwuB10  ...      -28\n",
              "1  https://www.youtube.com/watch?v=lOhldJyDFck  ...      -28\n",
              "2  https://www.youtube.com/watch?v=1id-rhHp2wc  ...      -28\n",
              "3  https://www.youtube.com/watch?v=v_XI-aiCa34  ...      -28\n",
              "4  https://www.youtube.com/watch?v=yUg-w0tdyBs  ...      -28\n",
              "\n",
              "[5 rows x 11 columns]"
            ]
          },
          "metadata": {
            "tags": []
          },
          "execution_count": 7
        }
      ]
    },
    {
      "cell_type": "code",
      "metadata": {
        "id": "c4gzbYsLg3aU"
      },
      "source": [
        "clean_pew = data[(data['pew_2020'] != 0) &\n",
        "                 (data['pew_2019'] != 0) &\n",
        "                 (data['pew_2018'] != 0) &\n",
        "                 (data['pew_2017'] != 0)].iloc[:,7:11]"
      ],
      "execution_count": null,
      "outputs": []
    },
    {
      "cell_type": "code",
      "metadata": {
        "colab": {
          "base_uri": "https://localhost:8080/",
          "height": 297
        },
        "id": "9ynZAS-q2Jop",
        "outputId": "83e221d7-d7c4-4845-e79f-929d7f5a6799"
      },
      "source": [
        "clean_pew.describe()"
      ],
      "execution_count": null,
      "outputs": [
        {
          "output_type": "execute_result",
          "data": {
            "text/html": [
              "<div>\n",
              "<style scoped>\n",
              "    .dataframe tbody tr th:only-of-type {\n",
              "        vertical-align: middle;\n",
              "    }\n",
              "\n",
              "    .dataframe tbody tr th {\n",
              "        vertical-align: top;\n",
              "    }\n",
              "\n",
              "    .dataframe thead th {\n",
              "        text-align: right;\n",
              "    }\n",
              "</style>\n",
              "<table border=\"1\" class=\"dataframe\">\n",
              "  <thead>\n",
              "    <tr style=\"text-align: right;\">\n",
              "      <th></th>\n",
              "      <th>pew_2020</th>\n",
              "      <th>pew_2019</th>\n",
              "      <th>pew_2018</th>\n",
              "      <th>pew_2017</th>\n",
              "    </tr>\n",
              "  </thead>\n",
              "  <tbody>\n",
              "    <tr>\n",
              "      <th>count</th>\n",
              "      <td>360.000000</td>\n",
              "      <td>360.000000</td>\n",
              "      <td>360.000000</td>\n",
              "      <td>360.000000</td>\n",
              "    </tr>\n",
              "    <tr>\n",
              "      <th>mean</th>\n",
              "      <td>-44.000000</td>\n",
              "      <td>-24.333333</td>\n",
              "      <td>-14.666667</td>\n",
              "      <td>-13.000000</td>\n",
              "    </tr>\n",
              "    <tr>\n",
              "      <th>std</th>\n",
              "      <td>9.304505</td>\n",
              "      <td>3.500895</td>\n",
              "      <td>10.288323</td>\n",
              "      <td>12.811033</td>\n",
              "    </tr>\n",
              "    <tr>\n",
              "      <th>min</th>\n",
              "      <td>-51.000000</td>\n",
              "      <td>-29.000000</td>\n",
              "      <td>-31.000000</td>\n",
              "      <td>-28.000000</td>\n",
              "    </tr>\n",
              "    <tr>\n",
              "      <th>25%</th>\n",
              "      <td>-51.000000</td>\n",
              "      <td>-29.000000</td>\n",
              "      <td>-22.000000</td>\n",
              "      <td>-27.000000</td>\n",
              "    </tr>\n",
              "    <tr>\n",
              "      <th>50%</th>\n",
              "      <td>-47.000000</td>\n",
              "      <td>-23.000000</td>\n",
              "      <td>-14.000000</td>\n",
              "      <td>-13.500000</td>\n",
              "    </tr>\n",
              "    <tr>\n",
              "      <th>75%</th>\n",
              "      <td>-44.000000</td>\n",
              "      <td>-22.000000</td>\n",
              "      <td>-9.000000</td>\n",
              "      <td>-3.000000</td>\n",
              "    </tr>\n",
              "    <tr>\n",
              "      <th>max</th>\n",
              "      <td>-24.000000</td>\n",
              "      <td>-20.000000</td>\n",
              "      <td>2.000000</td>\n",
              "      <td>7.000000</td>\n",
              "    </tr>\n",
              "  </tbody>\n",
              "</table>\n",
              "</div>"
            ],
            "text/plain": [
              "         pew_2020    pew_2019    pew_2018    pew_2017\n",
              "count  360.000000  360.000000  360.000000  360.000000\n",
              "mean   -44.000000  -24.333333  -14.666667  -13.000000\n",
              "std      9.304505    3.500895   10.288323   12.811033\n",
              "min    -51.000000  -29.000000  -31.000000  -28.000000\n",
              "25%    -51.000000  -29.000000  -22.000000  -27.000000\n",
              "50%    -47.000000  -23.000000  -14.000000  -13.500000\n",
              "75%    -44.000000  -22.000000   -9.000000   -3.000000\n",
              "max    -24.000000  -20.000000    2.000000    7.000000"
            ]
          },
          "metadata": {
            "tags": []
          },
          "execution_count": 34
        }
      ]
    },
    {
      "cell_type": "code",
      "metadata": {
        "colab": {
          "base_uri": "https://localhost:8080/",
          "height": 280
        },
        "id": "0Rzuw4nB3yX5",
        "outputId": "2c1de84e-504d-4fe0-f2a3-2854a565b19a"
      },
      "source": [
        "sns.histplot(data['vid_stance'], stat='density')\n",
        "plt.show()"
      ],
      "execution_count": null,
      "outputs": [
        {
          "output_type": "display_data",
          "data": {
            "image/png": "[encoded data removed]",
            "text/plain": [
              "<Figure size 432x288 with 1 Axes>"
            ]
          },
          "metadata": {
            "tags": [],
            "needs_background": "light"
          }
        }
      ]
    },
    {
      "cell_type": "code",
      "metadata": {
        "colab": {
          "base_uri": "https://localhost:8080/"
        },
        "id": "qTHDBTcbLBVO",
        "outputId": "9680d591-0657-4518-cf8b-b6b2a63d8dd1"
      },
      "source": [
        "data['term'].value_counts()"
      ],
      "execution_count": null,
      "outputs": [
        {
          "output_type": "execute_result",
          "data": {
            "text/plain": [
              "Xinjiang Uighurs       300\n",
              "Xinjiang               300\n",
              "Xinjiang Terrorism     280\n",
              "Xinnijang Terrorism     20\n",
              "Name: term, dtype: int64"
            ]
          },
          "metadata": {
            "tags": []
          },
          "execution_count": 120
        }
      ]
    },
    {
      "cell_type": "code",
      "metadata": {
        "colab": {
          "base_uri": "https://localhost:8080/",
          "height": 280
        },
        "id": "uqkJmAR9KXbG",
        "outputId": "4a0b3e41-2d1f-4c89-9fda-90945df74463"
      },
      "source": [
        "sns.histplot(data[data['term'] == 'Xinjiang']['vid_stance'], stat='density')\n",
        "plt.show()"
      ],
      "execution_count": null,
      "outputs": [
        {
          "output_type": "display_data",
          "data": {
            "image/png": "[encoded data removed]",
            "text/plain": [
              "<Figure size 432x288 with 1 Axes>"
            ]
          },
          "metadata": {
            "tags": [],
            "needs_background": "light"
          }
        }
      ]
    },
    {
      "cell_type": "code",
      "metadata": {
        "colab": {
          "base_uri": "https://localhost:8080/"
        },
        "id": "h9phYRv645Xs",
        "outputId": "f8f18de1-b042-43ab-f069-5e7f7473bb96"
      },
      "source": [
        "data['title'].value_counts()"
      ],
      "execution_count": null,
      "outputs": [
        {
          "output_type": "execute_result",
          "data": {
            "text/plain": [
              "Fighting Terrorism in Xinjiang                                                    46\n",
              "What's China's 're-education camp' in Xinjiang really about?                      38\n",
              "China’s Vanishing Muslims: Undercover In The Most Dystopian Place In The World    29\n",
              "Xinjiang: China's Muslim minorities | DW Documentary                              29\n",
              "How China is crushing the Uyghurs | The Economist                                 26\n",
              "                                                                                  ..\n",
              "Sex-for-rent offered by landlords - BBC News                                       1\n",
              "Uiguren in Xinjiang: Ein stiller Genozid? | DW Reporter                            1\n",
              "GT investigates video: Stories on Xinjiang that BBC chooses to twist               1\n",
              "CGTN finds Mihrigul Tursun's claims false                                          1\n",
              "How Xinjiang Became Muslim ft. Let's Talk Religion                                 1\n",
              "Name: title, Length: 113, dtype: int64"
            ]
          },
          "metadata": {
            "tags": []
          },
          "execution_count": 58
        }
      ]
    },
    {
      "cell_type": "code",
      "metadata": {
        "colab": {
          "base_uri": "https://localhost:8080/"
        },
        "id": "5G_bTZvtMG-3",
        "outputId": "fe35cae4-3bc8-4ff0-8cd6-451fd77179af"
      },
      "source": [
        "data[data['term'] == 'Xinjiang']['title'].value_counts()"
      ],
      "execution_count": null,
      "outputs": [
        {
          "output_type": "execute_result",
          "data": {
            "text/plain": [
              "21 workers trapped in flooded mine in China’s Xinjiang                          15\n",
              "Chinese musical whitewashes human-rights abuse in Xinjiang | DW News            14\n",
              "Xinjiang: China's Muslim minorities | DW Documentary                            14\n",
              "Is Xinjiang safe? Our first hand road trip experience!                          13\n",
              "What's China's 're-education camp' in Xinjiang really about?                    12\n",
              "                                                                                ..\n",
              "Tensions rise as Beijing steps up military presence in South China Sea           1\n",
              "Vlogger Inggris: Bagaimana media Barat berbohong tentang Xinjiang                1\n",
              "Inside Sheng Siong supermarket billionaire Lim Hock Leng’s home in Singapore     1\n",
              "Fighting Terrorism in Xinjiang                                                   1\n",
              "How Xinjiang Became Muslim ft. Let's Talk Religion                               1\n",
              "Name: title, Length: 71, dtype: int64"
            ]
          },
          "metadata": {
            "tags": []
          },
          "execution_count": 124
        }
      ]
    },
    {
      "cell_type": "code",
      "metadata": {
        "colab": {
          "base_uri": "https://localhost:8080/"
        },
        "id": "OzSMsB4dMRso",
        "outputId": "d5824ae3-adaf-4f0c-9f07-b3b087892903"
      },
      "source": [
        "data[data['term'] == 'Xinjiang Terrorism']['title'].value_counts()"
      ],
      "execution_count": null,
      "outputs": [
        {
          "output_type": "execute_result",
          "data": {
            "text/plain": [
              "Fighting Terrorism in Xinjiang                                                    42\n",
              "The Black Hand — ETIM and Terrorism in Xinjiang                                   14\n",
              "《暗流涌动——中国新疆反恐挑战》| CCTV中文国际                                                        14\n",
              "China executes eight Uighurs convicted of terror offenses | Journal               14\n",
              "China blames 'terrorist' for deadly clashes in troubled Xinjiang                  14\n",
              "Terror Attack in Xinjiang Autonomous Region                                       14\n",
              "Footage of Suicide Bombing in China's Xinjiang Released for First Time            14\n",
              "China's Hidden War On Terror: Special Report                                      14\n",
              "China, Xinjiang and the Roots of Uyghur Separatism and Terrorism                  14\n",
              "The War in the Shadows: Challenges of Fighting Terrorism in Xinjiang              14\n",
              "Training child terrorists on China's frontier                                     14\n",
              "The black hand — ETIM and terrorism in Xinjiang                                   14\n",
              "China's “War on Terrorism” and the Xinjiang Emergency                             13\n",
              "Inside China's 'thought transformation' camps - BBC News                          12\n",
              "What's China's 're-education camp' in Xinjiang really about?                      12\n",
              "Hundreds Of People Killed In Xinjiang Riot - Bloomberg                            12\n",
              "China’s Vanishing Muslims: Undercover In The Most Dystopian Place In The World    11\n",
              "\"I will kill my son\": Radicalized extremist in Xinjiang                           10\n",
              "Gravitas: China accuses US of funding terror in Xinjiang                           2\n",
              "Living on Minimum Wage                                                             2\n",
              "50:02\\nWATCH LATER\\nADD TO QUEUE                                                   2\n",
              "Inside Story - Chinese Uighurs: separatism vs terrorism?                           1\n",
              "Uygur woman describes torture in China’s Xinjiang ‘vocational training’ camps      1\n",
              "CGTN finds Mihrigul Tursun's claims false                                          1\n",
              "China defends Uighur policy and 'fight against violent terrorists' | DW News       1\n",
              "The Black Hand-ETIM and Terrorism in Xinjiang                                      1\n",
              "How China is crushing the Uyghurs | The Economist                                  1\n",
              "Severe crisis is forcing Venezuelans to reinvent themselves                        1\n",
              "Fighting terrorism in Xinjiang                                                     1\n",
              "Name: title, dtype: int64"
            ]
          },
          "metadata": {
            "tags": []
          },
          "execution_count": 127
        }
      ]
    },
    {
      "cell_type": "code",
      "metadata": {
        "colab": {
          "base_uri": "https://localhost:8080/"
        },
        "id": "LaDesHfBLuYY",
        "outputId": "24621614-65d3-49ce-c267-aaa18e48b65c"
      },
      "source": [
        "data[data['pol_stance'] == 'Supports']['title'].value_counts()"
      ],
      "execution_count": null,
      "outputs": [
        {
          "output_type": "execute_result",
          "data": {
            "text/plain": [
              "Fighting Terrorism in Xinjiang                                                    15\n",
              "What's China's 're-education camp' in Xinjiang really about?                      12\n",
              "China’s Vanishing Muslims: Undercover In The Most Dystopian Place In The World    10\n",
              "Xinjiang: China's Muslim minorities | DW Documentary                              10\n",
              "How China is crushing the Uyghurs | The Economist                                  9\n",
              "                                                                                  ..\n",
              "What’s Dating Like in China for Americans? | Street Interview                      1\n",
              "H&M erased on Chinese internet over Xinjiang statement                             1\n",
              "Secrecy and Abuse Claims Haunt China’s Solar Factories in Xinjiang                 1\n",
              "China accused of forcing 570,000 Uighurs to pick cotton in Xinjiang                1\n",
              "Visiting Urumqi - why is there so much tension in Xinjiang? (China)                1\n",
              "Name: title, Length: 74, dtype: int64"
            ]
          },
          "metadata": {
            "tags": []
          },
          "execution_count": 121
        }
      ]
    },
    {
      "cell_type": "code",
      "metadata": {
        "colab": {
          "base_uri": "https://localhost:8080/"
        },
        "id": "ij8Im9SNLuKx",
        "outputId": "9e121fc2-93a4-4cd8-be68-cb7b0b19d86e"
      },
      "source": [
        "data[data['pol_stance'] == 'None']['title'].value_counts()"
      ],
      "execution_count": null,
      "outputs": [
        {
          "output_type": "execute_result",
          "data": {
            "text/plain": [
              "Fighting Terrorism in Xinjiang                                                     16\n",
              "What's China's 're-education camp' in Xinjiang really about?                       13\n",
              "Inside China's 'thought transformation' camps - BBC News                           10\n",
              "Xinjiang: China's Muslim minorities | DW Documentary                                9\n",
              "China’s Vanishing Muslims: Undercover In The Most Dystopian Place In The World      9\n",
              "                                                                                   ..\n",
              "Nike and H&M face China fury over Xinjiang cotton 'concerns' - BBC News             1\n",
              "Inside Sheng Siong supermarket billionaire Lim Hock Leng’s home in Singapore        1\n",
              "China tries to thwart CNN investigation into detention camps                        1\n",
              "Inside Xinjiang’s Secret Detention Camps (360/VR) | Reeducated | The New Yorker     1\n",
              "How Xinjiang Became Muslim ft. Let's Talk Religion                                  1\n",
              "Name: title, Length: 81, dtype: int64"
            ]
          },
          "metadata": {
            "tags": []
          },
          "execution_count": 122
        }
      ]
    },
    {
      "cell_type": "code",
      "metadata": {
        "colab": {
          "base_uri": "https://localhost:8080/"
        },
        "id": "ghc23Z6bLt1b",
        "outputId": "44d824b9-b140-4db9-8551-bb05e9d04fb8"
      },
      "source": [
        "data[data['pol_stance'] == 'Condemns']['title'].value_counts()"
      ],
      "execution_count": null,
      "outputs": [
        {
          "output_type": "execute_result",
          "data": {
            "text/plain": [
              "Fighting Terrorism in Xinjiang                                                                   15\n",
              "What's China's 're-education camp' in Xinjiang really about?                                     13\n",
              "China’s Vanishing Muslims: Undercover In The Most Dystopian Place In The World                   10\n",
              "Xinjiang: China's Muslim minorities | DW Documentary                                             10\n",
              "How China is crushing the Uyghurs | The Economist                                                 9\n",
              "                                                                                                 ..\n",
              "Living on Minimum Wage                                                                            1\n",
              "Uiguren in Xinjiang: Ein stiller Genozid? | DW Reporter                                           1\n",
              "China's Pushback: Beijing questions Western reporting on Xinjiang | The Listening Post (Full)     1\n",
              "CGTN finds Mihrigul Tursun's claims false                                                         1\n",
              "Beijing faces new abuse claims from Xinjiang                                                      1\n",
              "Name: title, Length: 83, dtype: int64"
            ]
          },
          "metadata": {
            "tags": []
          },
          "execution_count": 123
        }
      ]
    },
    {
      "cell_type": "code",
      "metadata": {
        "id": "dspujZvA7EnN"
      },
      "source": [
        "pol = data.copy()\n",
        "pol = prep.loc[:,'term':'vid_stance']\n",
        "pol['pro_china'] = [1 if stance == 'Pro-China' else 0 for stance in prep['vid_stance']]\n",
        "pol['balanced'] = [1 if stance == 'Balanced' else 0 for stance in prep['vid_stance']]\n",
        "pol['critical'] = [1 if stance == 'Critical' else 0 for stance in prep['vid_stance']]\n",
        "pol[\n",
        "    ['pro_china', 'balanced', 'critical']\n",
        "    ] = pol[\n",
        "            ['pro_china', 'balanced', 'critical']\n",
        "            ].apply(lambda stance : stance / pol['rank'])\n",
        "pol['supports'] = [1 if stance == 'Supports' else 0 for stance in prep['pol_stance']]"
      ],
      "execution_count": null,
      "outputs": []
    },
    {
      "cell_type": "code",
      "metadata": {
        "colab": {
          "base_uri": "https://localhost:8080/",
          "height": 204
        },
        "id": "gTXAlAwKO_YX",
        "outputId": "fb0af909-9336-4abb-9d05-a28ae1f0dc6f"
      },
      "source": [
        "pol_test = pol.drop(['pol_stance','vid_stance', 'rank'], axis=1)\n",
        "pol_test.head()"
      ],
      "execution_count": null,
      "outputs": [
        {
          "output_type": "execute_result",
          "data": {
            "text/html": [
              "<div>\n",
              "<style scoped>\n",
              "    .dataframe tbody tr th:only-of-type {\n",
              "        vertical-align: middle;\n",
              "    }\n",
              "\n",
              "    .dataframe tbody tr th {\n",
              "        vertical-align: top;\n",
              "    }\n",
              "\n",
              "    .dataframe thead th {\n",
              "        text-align: right;\n",
              "    }\n",
              "</style>\n",
              "<table border=\"1\" class=\"dataframe\">\n",
              "  <thead>\n",
              "    <tr style=\"text-align: right;\">\n",
              "      <th></th>\n",
              "      <th>term</th>\n",
              "      <th>pro_china</th>\n",
              "      <th>balanced</th>\n",
              "      <th>critical</th>\n",
              "      <th>supports</th>\n",
              "    </tr>\n",
              "  </thead>\n",
              "  <tbody>\n",
              "    <tr>\n",
              "      <th>0</th>\n",
              "      <td>Xinjiang</td>\n",
              "      <td>1.00</td>\n",
              "      <td>0.0</td>\n",
              "      <td>0.000000</td>\n",
              "      <td>0</td>\n",
              "    </tr>\n",
              "    <tr>\n",
              "      <th>1</th>\n",
              "      <td>Xinjiang</td>\n",
              "      <td>0.00</td>\n",
              "      <td>0.0</td>\n",
              "      <td>0.500000</td>\n",
              "      <td>0</td>\n",
              "    </tr>\n",
              "    <tr>\n",
              "      <th>2</th>\n",
              "      <td>Xinjiang</td>\n",
              "      <td>0.00</td>\n",
              "      <td>0.0</td>\n",
              "      <td>0.333333</td>\n",
              "      <td>0</td>\n",
              "    </tr>\n",
              "    <tr>\n",
              "      <th>3</th>\n",
              "      <td>Xinjiang</td>\n",
              "      <td>0.25</td>\n",
              "      <td>0.0</td>\n",
              "      <td>0.000000</td>\n",
              "      <td>0</td>\n",
              "    </tr>\n",
              "    <tr>\n",
              "      <th>4</th>\n",
              "      <td>Xinjiang</td>\n",
              "      <td>0.00</td>\n",
              "      <td>0.2</td>\n",
              "      <td>0.000000</td>\n",
              "      <td>0</td>\n",
              "    </tr>\n",
              "  </tbody>\n",
              "</table>\n",
              "</div>"
            ],
            "text/plain": [
              "       term  pro_china  balanced  critical  supports\n",
              "0  Xinjiang       1.00       0.0  0.000000         0\n",
              "1  Xinjiang       0.00       0.0  0.500000         0\n",
              "2  Xinjiang       0.00       0.0  0.333333         0\n",
              "3  Xinjiang       0.25       0.0  0.000000         0\n",
              "4  Xinjiang       0.00       0.2  0.000000         0"
            ]
          },
          "metadata": {
            "tags": []
          },
          "execution_count": 136
        }
      ]
    },
    {
      "cell_type": "code",
      "metadata": {
        "id": "3oOoOLqUCHIG"
      },
      "source": [
        "import statsmodels.api as sm\n",
        "dependent = pol['supports']"
      ],
      "execution_count": null,
      "outputs": []
    },
    {
      "cell_type": "code",
      "metadata": {
        "colab": {
          "base_uri": "https://localhost:8080/",
          "height": 486
        },
        "id": "Mhxv-3EdCTEi",
        "outputId": "d79cf9ed-deb3-4f6f-9916-f9b23e50e6a1"
      },
      "source": [
        "allindependent = pol_test[['pro_china', 'balanced', 'critical']]\n",
        "allindependent_c = sm.add_constant(allindependent)\n",
        "fullmodel = sm.WLS(dependent, \n",
        "                   allindependent_c)\n",
        "fullmodel = fullmodel.fit()\n",
        "fullmodel.summary()"
      ],
      "execution_count": null,
      "outputs": [
        {
          "output_type": "execute_result",
          "data": {
            "text/html": [
              "<table class=\"simpletable\">\n",
              "<caption>WLS Regression Results</caption>\n",
              "<tr>\n",
              "  <th>Dep. Variable:</th>        <td>supports</td>     <th>  R-squared:         </th> <td>   0.003</td>\n",
              "</tr>\n",
              "<tr>\n",
              "  <th>Model:</th>                   <td>WLS</td>       <th>  Adj. R-squared:    </th> <td>  -0.000</td>\n",
              "</tr>\n",
              "<tr>\n",
              "  <th>Method:</th>             <td>Least Squares</td>  <th>  F-statistic:       </th> <td>  0.9751</td>\n",
              "</tr>\n",
              "<tr>\n",
              "  <th>Date:</th>             <td>Sun, 18 Apr 2021</td> <th>  Prob (F-statistic):</th>  <td> 0.404</td> \n",
              "</tr>\n",
              "<tr>\n",
              "  <th>Time:</th>                 <td>18:27:11</td>     <th>  Log-Likelihood:    </th> <td> -598.74</td>\n",
              "</tr>\n",
              "<tr>\n",
              "  <th>No. Observations:</th>      <td>   900</td>      <th>  AIC:               </th> <td>   1205.</td>\n",
              "</tr>\n",
              "<tr>\n",
              "  <th>Df Residuals:</th>          <td>   896</td>      <th>  BIC:               </th> <td>   1225.</td>\n",
              "</tr>\n",
              "<tr>\n",
              "  <th>Df Model:</th>              <td>     3</td>      <th>                     </th>     <td> </td>   \n",
              "</tr>\n",
              "<tr>\n",
              "  <th>Covariance Type:</th>      <td>nonrobust</td>    <th>                     </th>     <td> </td>   \n",
              "</tr>\n",
              "</table>\n",
              "<table class=\"simpletable\">\n",
              "<tr>\n",
              "      <td></td>         <th>coef</th>     <th>std err</th>      <th>t</th>      <th>P>|t|</th>  <th>[0.025</th>    <th>0.975]</th>  \n",
              "</tr>\n",
              "<tr>\n",
              "  <th>const</th>     <td>    0.3345</td> <td>    0.019</td> <td>   17.276</td> <td> 0.000</td> <td>    0.297</td> <td>    0.373</td>\n",
              "</tr>\n",
              "<tr>\n",
              "  <th>pro_china</th> <td>   -0.0879</td> <td>    0.096</td> <td>   -0.913</td> <td> 0.361</td> <td>   -0.277</td> <td>    0.101</td>\n",
              "</tr>\n",
              "<tr>\n",
              "  <th>balanced</th>  <td>    0.5961</td> <td>    0.434</td> <td>    1.373</td> <td> 0.170</td> <td>   -0.256</td> <td>    1.448</td>\n",
              "</tr>\n",
              "<tr>\n",
              "  <th>critical</th>  <td>    0.0200</td> <td>    0.093</td> <td>    0.216</td> <td> 0.829</td> <td>   -0.162</td> <td>    0.202</td>\n",
              "</tr>\n",
              "</table>\n",
              "<table class=\"simpletable\">\n",
              "<tr>\n",
              "  <th>Omnibus:</th>       <td>6917.394</td> <th>  Durbin-Watson:     </th> <td>   0.005</td>\n",
              "</tr>\n",
              "<tr>\n",
              "  <th>Prob(Omnibus):</th>  <td> 0.000</td>  <th>  Jarque-Bera (JB):  </th> <td> 158.604</td>\n",
              "</tr>\n",
              "<tr>\n",
              "  <th>Skew:</th>           <td> 0.709</td>  <th>  Prob(JB):          </th> <td>3.63e-35</td>\n",
              "</tr>\n",
              "<tr>\n",
              "  <th>Kurtosis:</th>       <td> 1.510</td>  <th>  Cond. No.          </th> <td>    27.8</td>\n",
              "</tr>\n",
              "</table><br/><br/>Warnings:<br/>[1] Standard Errors assume that the covariance matrix of the errors is correctly specified."
            ],
            "text/plain": [
              "<class 'statsmodels.iolib.summary.Summary'>\n",
              "\"\"\"\n",
              "                            WLS Regression Results                            \n",
              "==============================================================================\n",
              "Dep. Variable:               supports   R-squared:                       0.003\n",
              "Model:                            WLS   Adj. R-squared:                 -0.000\n",
              "Method:                 Least Squares   F-statistic:                    0.9751\n",
              "Date:                Sun, 18 Apr 2021   Prob (F-statistic):              0.404\n",
              "Time:                        18:27:11   Log-Likelihood:                -598.74\n",
              "No. Observations:                 900   AIC:                             1205.\n",
              "Df Residuals:                     896   BIC:                             1225.\n",
              "Df Model:                           3                                         \n",
              "Covariance Type:            nonrobust                                         \n",
              "==============================================================================\n",
              "                 coef    std err          t      P>|t|      [0.025      0.975]\n",
              "------------------------------------------------------------------------------\n",
              "const          0.3345      0.019     17.276      0.000       0.297       0.373\n",
              "pro_china     -0.0879      0.096     -0.913      0.361      -0.277       0.101\n",
              "balanced       0.5961      0.434      1.373      0.170      -0.256       1.448\n",
              "critical       0.0200      0.093      0.216      0.829      -0.162       0.202\n",
              "==============================================================================\n",
              "Omnibus:                     6917.394   Durbin-Watson:                   0.005\n",
              "Prob(Omnibus):                  0.000   Jarque-Bera (JB):              158.604\n",
              "Skew:                           0.709   Prob(JB):                     3.63e-35\n",
              "Kurtosis:                       1.510   Cond. No.                         27.8\n",
              "==============================================================================\n",
              "\n",
              "Warnings:\n",
              "[1] Standard Errors assume that the covariance matrix of the errors is correctly specified.\n",
              "\"\"\""
            ]
          },
          "metadata": {
            "tags": []
          },
          "execution_count": 137
        }
      ]
    },
    {
      "cell_type": "code",
      "metadata": {
        "colab": {
          "base_uri": "https://localhost:8080/",
          "height": 204
        },
        "id": "GWPsT-qxOK-K",
        "outputId": "39943151-7325-4b91-9b57-e2abc77b1f5d"
      },
      "source": [
        "first_five = pol.copy()\n",
        "first_five = first_five[(first_five['rank'] > 0) & (first_five['rank'] < 6)]\n",
        "first_five = first_five.drop(['pol_stance','vid_stance', 'rank'], axis=1)\n",
        "first_five.head()"
      ],
      "execution_count": null,
      "outputs": [
        {
          "output_type": "execute_result",
          "data": {
            "text/html": [
              "<div>\n",
              "<style scoped>\n",
              "    .dataframe tbody tr th:only-of-type {\n",
              "        vertical-align: middle;\n",
              "    }\n",
              "\n",
              "    .dataframe tbody tr th {\n",
              "        vertical-align: top;\n",
              "    }\n",
              "\n",
              "    .dataframe thead th {\n",
              "        text-align: right;\n",
              "    }\n",
              "</style>\n",
              "<table border=\"1\" class=\"dataframe\">\n",
              "  <thead>\n",
              "    <tr style=\"text-align: right;\">\n",
              "      <th></th>\n",
              "      <th>term</th>\n",
              "      <th>pro_china</th>\n",
              "      <th>balanced</th>\n",
              "      <th>critical</th>\n",
              "      <th>supports</th>\n",
              "    </tr>\n",
              "  </thead>\n",
              "  <tbody>\n",
              "    <tr>\n",
              "      <th>0</th>\n",
              "      <td>Xinjiang</td>\n",
              "      <td>1.00</td>\n",
              "      <td>0.0</td>\n",
              "      <td>0.000000</td>\n",
              "      <td>0</td>\n",
              "    </tr>\n",
              "    <tr>\n",
              "      <th>1</th>\n",
              "      <td>Xinjiang</td>\n",
              "      <td>0.00</td>\n",
              "      <td>0.0</td>\n",
              "      <td>0.500000</td>\n",
              "      <td>0</td>\n",
              "    </tr>\n",
              "    <tr>\n",
              "      <th>2</th>\n",
              "      <td>Xinjiang</td>\n",
              "      <td>0.00</td>\n",
              "      <td>0.0</td>\n",
              "      <td>0.333333</td>\n",
              "      <td>0</td>\n",
              "    </tr>\n",
              "    <tr>\n",
              "      <th>3</th>\n",
              "      <td>Xinjiang</td>\n",
              "      <td>0.25</td>\n",
              "      <td>0.0</td>\n",
              "      <td>0.000000</td>\n",
              "      <td>0</td>\n",
              "    </tr>\n",
              "    <tr>\n",
              "      <th>4</th>\n",
              "      <td>Xinjiang</td>\n",
              "      <td>0.00</td>\n",
              "      <td>0.2</td>\n",
              "      <td>0.000000</td>\n",
              "      <td>0</td>\n",
              "    </tr>\n",
              "  </tbody>\n",
              "</table>\n",
              "</div>"
            ],
            "text/plain": [
              "       term  pro_china  balanced  critical  supports\n",
              "0  Xinjiang       1.00       0.0  0.000000         0\n",
              "1  Xinjiang       0.00       0.0  0.500000         0\n",
              "2  Xinjiang       0.00       0.0  0.333333         0\n",
              "3  Xinjiang       0.25       0.0  0.000000         0\n",
              "4  Xinjiang       0.00       0.2  0.000000         0"
            ]
          },
          "metadata": {
            "tags": []
          },
          "execution_count": 140
        }
      ]
    },
    {
      "cell_type": "code",
      "metadata": {
        "colab": {
          "base_uri": "https://localhost:8080/",
          "height": 486
        },
        "id": "OnY9F4uqPS2s",
        "outputId": "f1fe13f2-87c9-41f8-a695-c04f018d8d20"
      },
      "source": [
        "dependentff = first_five['supports']\n",
        "allindependentff = first_five[['pro_china', 'balanced', 'critical']]\n",
        "allindependentff_c = sm.add_constant(allindependentff)\n",
        "fullmodel = sm.WLS(dependentff, \n",
        "                   allindependentff_c)\n",
        "fullmodel = fullmodel.fit()\n",
        "fullmodel.summary()"
      ],
      "execution_count": null,
      "outputs": [
        {
          "output_type": "execute_result",
          "data": {
            "text/html": [
              "<table class=\"simpletable\">\n",
              "<caption>WLS Regression Results</caption>\n",
              "<tr>\n",
              "  <th>Dep. Variable:</th>        <td>supports</td>     <th>  R-squared:         </th> <td>   0.013</td>\n",
              "</tr>\n",
              "<tr>\n",
              "  <th>Model:</th>                   <td>WLS</td>       <th>  Adj. R-squared:    </th> <td>  -0.000</td>\n",
              "</tr>\n",
              "<tr>\n",
              "  <th>Method:</th>             <td>Least Squares</td>  <th>  F-statistic:       </th> <td>  0.9711</td>\n",
              "</tr>\n",
              "<tr>\n",
              "  <th>Date:</th>             <td>Sun, 18 Apr 2021</td> <th>  Prob (F-statistic):</th>  <td> 0.407</td> \n",
              "</tr>\n",
              "<tr>\n",
              "  <th>Time:</th>                 <td>18:28:54</td>     <th>  Log-Likelihood:    </th> <td> -148.58</td>\n",
              "</tr>\n",
              "<tr>\n",
              "  <th>No. Observations:</th>      <td>   225</td>      <th>  AIC:               </th> <td>   305.2</td>\n",
              "</tr>\n",
              "<tr>\n",
              "  <th>Df Residuals:</th>          <td>   221</td>      <th>  BIC:               </th> <td>   318.8</td>\n",
              "</tr>\n",
              "<tr>\n",
              "  <th>Df Model:</th>              <td>     3</td>      <th>                     </th>     <td> </td>   \n",
              "</tr>\n",
              "<tr>\n",
              "  <th>Covariance Type:</th>      <td>nonrobust</td>    <th>                     </th>     <td> </td>   \n",
              "</tr>\n",
              "</table>\n",
              "<table class=\"simpletable\">\n",
              "<tr>\n",
              "      <td></td>         <th>coef</th>     <th>std err</th>      <th>t</th>      <th>P>|t|</th>  <th>[0.025</th>    <th>0.975]</th>  \n",
              "</tr>\n",
              "<tr>\n",
              "  <th>const</th>     <td>    0.3390</td> <td>    0.050</td> <td>    6.822</td> <td> 0.000</td> <td>    0.241</td> <td>    0.437</td>\n",
              "</tr>\n",
              "<tr>\n",
              "  <th>pro_china</th> <td>   -0.1075</td> <td>    0.111</td> <td>   -0.967</td> <td> 0.334</td> <td>   -0.326</td> <td>    0.111</td>\n",
              "</tr>\n",
              "<tr>\n",
              "  <th>balanced</th>  <td>    0.5703</td> <td>    0.467</td> <td>    1.222</td> <td> 0.223</td> <td>   -0.350</td> <td>    1.490</td>\n",
              "</tr>\n",
              "<tr>\n",
              "  <th>critical</th>  <td>    0.0258</td> <td>    0.119</td> <td>    0.216</td> <td> 0.829</td> <td>   -0.209</td> <td>    0.261</td>\n",
              "</tr>\n",
              "</table>\n",
              "<table class=\"simpletable\">\n",
              "<tr>\n",
              "  <th>Omnibus:</th>       <td>3864.477</td> <th>  Durbin-Watson:     </th> <td>   0.023</td>\n",
              "</tr>\n",
              "<tr>\n",
              "  <th>Prob(Omnibus):</th>  <td> 0.000</td>  <th>  Jarque-Bera (JB):  </th> <td>  38.982</td>\n",
              "</tr>\n",
              "<tr>\n",
              "  <th>Skew:</th>           <td> 0.711</td>  <th>  Prob(JB):          </th> <td>3.43e-09</td>\n",
              "</tr>\n",
              "<tr>\n",
              "  <th>Kurtosis:</th>       <td> 1.539</td>  <th>  Cond. No.          </th> <td>    15.4</td>\n",
              "</tr>\n",
              "</table><br/><br/>Warnings:<br/>[1] Standard Errors assume that the covariance matrix of the errors is correctly specified."
            ],
            "text/plain": [
              "<class 'statsmodels.iolib.summary.Summary'>\n",
              "\"\"\"\n",
              "                            WLS Regression Results                            \n",
              "==============================================================================\n",
              "Dep. Variable:               supports   R-squared:                       0.013\n",
              "Model:                            WLS   Adj. R-squared:                 -0.000\n",
              "Method:                 Least Squares   F-statistic:                    0.9711\n",
              "Date:                Sun, 18 Apr 2021   Prob (F-statistic):              0.407\n",
              "Time:                        18:28:54   Log-Likelihood:                -148.58\n",
              "No. Observations:                 225   AIC:                             305.2\n",
              "Df Residuals:                     221   BIC:                             318.8\n",
              "Df Model:                           3                                         \n",
              "Covariance Type:            nonrobust                                         \n",
              "==============================================================================\n",
              "                 coef    std err          t      P>|t|      [0.025      0.975]\n",
              "------------------------------------------------------------------------------\n",
              "const          0.3390      0.050      6.822      0.000       0.241       0.437\n",
              "pro_china     -0.1075      0.111     -0.967      0.334      -0.326       0.111\n",
              "balanced       0.5703      0.467      1.222      0.223      -0.350       1.490\n",
              "critical       0.0258      0.119      0.216      0.829      -0.209       0.261\n",
              "==============================================================================\n",
              "Omnibus:                     3864.477   Durbin-Watson:                   0.023\n",
              "Prob(Omnibus):                  0.000   Jarque-Bera (JB):               38.982\n",
              "Skew:                           0.711   Prob(JB):                     3.43e-09\n",
              "Kurtosis:                       1.539   Cond. No.                         15.4\n",
              "==============================================================================\n",
              "\n",
              "Warnings:\n",
              "[1] Standard Errors assume that the covariance matrix of the errors is correctly specified.\n",
              "\"\"\""
            ]
          },
          "metadata": {
            "tags": []
          },
          "execution_count": 142
        }
      ]
    }
  ]
}