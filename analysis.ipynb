{
  "nbformat": 4,
  "nbformat_minor": 0,
  "metadata": {
    "colab": {
      "name": "youtube",
      "provenance": []
    },
    "kernelspec": {
      "name": "python3",
      "display_name": "Python 3"
    },
    "language_info": {
      "name": "python"
    }
  },
  "cells": [
    {
      "cell_type": "code",
      "metadata": {
        "id": "GHxCG1AieaaT"
      },
      "source": [
        "import pandas as pd\n",
        "import numpy as np\n",
        "import seaborn as sns\n",
        "import matplotlib.pyplot as plt\n",
        "from google.colab import files"
      ],
      "execution_count": 81,
      "outputs": []
    },
    {
      "cell_type": "code",
      "metadata": {
        "colab": {
          "base_uri": "https://localhost:8080/",
          "height": 306
        },
        "id": "X-d8TrDBesi1",
        "outputId": "1dde04f8-9c11-4b3c-f187-8bb7a0c2bfa8"
      },
      "source": [
        "data = pd.read_excel('Data.xlsx', sheet_name='dataset')\n",
        "data.head()"
      ],
      "execution_count": 82,
      "outputs": [
        {
          "output_type": "execute_result",
          "data": {
            "text/html": [
              "<div>\n",
              "<style scoped>\n",
              "    .dataframe tbody tr th:only-of-type {\n",
              "        vertical-align: middle;\n",
              "    }\n",
              "\n",
              "    .dataframe tbody tr th {\n",
              "        vertical-align: top;\n",
              "    }\n",
              "\n",
              "    .dataframe thead th {\n",
              "        text-align: right;\n",
              "    }\n",
              "</style>\n",
              "<table border=\"1\" class=\"dataframe\">\n",
              "  <thead>\n",
              "    <tr style=\"text-align: right;\">\n",
              "      <th></th>\n",
              "      <th>Url</th>\n",
              "      <th>Title</th>\n",
              "      <th>Country of IP</th>\n",
              "      <th>Search term</th>\n",
              "      <th>Rank</th>\n",
              "      <th>Geopolitical stance</th>\n",
              "      <th>Video stance</th>\n",
              "      <th>2020 Pew Net Favourable</th>\n",
              "      <th>2019 Pew Net Favourable</th>\n",
              "      <th>2018 Pew Net Favourable</th>\n",
              "      <th>2017 Pew Net Favourable</th>\n",
              "    </tr>\n",
              "  </thead>\n",
              "  <tbody>\n",
              "    <tr>\n",
              "      <th>0</th>\n",
              "      <td>https://www.youtube.com/watch?v=U3YBomwuB10</td>\n",
              "      <td>What's China's 're-education camp' in Xinjiang...</td>\n",
              "      <td>Italy</td>\n",
              "      <td>Xinjiang</td>\n",
              "      <td>1</td>\n",
              "      <td>None</td>\n",
              "      <td>Pro-China</td>\n",
              "      <td>-24</td>\n",
              "      <td>-20</td>\n",
              "      <td>-31</td>\n",
              "      <td>-28</td>\n",
              "    </tr>\n",
              "    <tr>\n",
              "      <th>1</th>\n",
              "      <td>https://www.youtube.com/watch?v=lOhldJyDFck</td>\n",
              "      <td>Chinese musical whitewashes human-rights abuse...</td>\n",
              "      <td>Italy</td>\n",
              "      <td>Xinjiang</td>\n",
              "      <td>2</td>\n",
              "      <td>None</td>\n",
              "      <td>Critical</td>\n",
              "      <td>-24</td>\n",
              "      <td>-20</td>\n",
              "      <td>-31</td>\n",
              "      <td>-28</td>\n",
              "    </tr>\n",
              "    <tr>\n",
              "      <th>2</th>\n",
              "      <td>https://www.youtube.com/watch?v=1id-rhHp2wc</td>\n",
              "      <td>China's Xinjiang Cotton Drama Explained</td>\n",
              "      <td>Italy</td>\n",
              "      <td>Xinjiang</td>\n",
              "      <td>3</td>\n",
              "      <td>None</td>\n",
              "      <td>Critical</td>\n",
              "      <td>-24</td>\n",
              "      <td>-20</td>\n",
              "      <td>-31</td>\n",
              "      <td>-28</td>\n",
              "    </tr>\n",
              "    <tr>\n",
              "      <th>3</th>\n",
              "      <td>https://www.youtube.com/watch?v=v_XI-aiCa34</td>\n",
              "      <td>Western media’s disinformation campaign: two t...</td>\n",
              "      <td>Italy</td>\n",
              "      <td>Xinjiang</td>\n",
              "      <td>4</td>\n",
              "      <td>None</td>\n",
              "      <td>Pro-China</td>\n",
              "      <td>-24</td>\n",
              "      <td>-20</td>\n",
              "      <td>-31</td>\n",
              "      <td>-28</td>\n",
              "    </tr>\n",
              "    <tr>\n",
              "      <th>4</th>\n",
              "      <td>https://www.youtube.com/watch?v=yUg-w0tdyBs</td>\n",
              "      <td>Explainer: Why Xinjiang is so important to China</td>\n",
              "      <td>Italy</td>\n",
              "      <td>Xinjiang</td>\n",
              "      <td>5</td>\n",
              "      <td>None</td>\n",
              "      <td>Balanced</td>\n",
              "      <td>-24</td>\n",
              "      <td>-20</td>\n",
              "      <td>-31</td>\n",
              "      <td>-28</td>\n",
              "    </tr>\n",
              "  </tbody>\n",
              "</table>\n",
              "</div>"
            ],
            "text/plain": [
              "                                           Url  ... 2017 Pew Net Favourable\n",
              "0  https://www.youtube.com/watch?v=U3YBomwuB10  ...                     -28\n",
              "1  https://www.youtube.com/watch?v=lOhldJyDFck  ...                     -28\n",
              "2  https://www.youtube.com/watch?v=1id-rhHp2wc  ...                     -28\n",
              "3  https://www.youtube.com/watch?v=v_XI-aiCa34  ...                     -28\n",
              "4  https://www.youtube.com/watch?v=yUg-w0tdyBs  ...                     -28\n",
              "\n",
              "[5 rows x 11 columns]"
            ]
          },
          "metadata": {
            "tags": []
          },
          "execution_count": 82
        }
      ]
    },
    {
      "cell_type": "code",
      "metadata": {
        "colab": {
          "base_uri": "https://localhost:8080/"
        },
        "id": "al77F26H0oVI",
        "outputId": "9c9abe69-b01f-4c3e-ea3d-7d6ad2e969c4"
      },
      "source": [
        "list(data.columns)"
      ],
      "execution_count": 83,
      "outputs": [
        {
          "output_type": "execute_result",
          "data": {
            "text/plain": [
              "['Url',\n",
              " 'Title',\n",
              " 'Country of IP',\n",
              " 'Search term',\n",
              " 'Rank',\n",
              " 'Geopolitical stance',\n",
              " 'Video stance',\n",
              " '2020 Pew Net Favourable',\n",
              " '2019 Pew Net Favourable',\n",
              " '2018 Pew Net Favourable',\n",
              " '2017 Pew Net Favourable']"
            ]
          },
          "metadata": {
            "tags": []
          },
          "execution_count": 83
        }
      ]
    },
    {
      "cell_type": "code",
      "metadata": {
        "colab": {
          "base_uri": "https://localhost:8080/",
          "height": 204
        },
        "id": "gsz_n4gx04c-",
        "outputId": "907116cc-11bc-4fec-86fa-46b053ba3e25"
      },
      "source": [
        "new_cols = ['url', \n",
        "            'title', \n",
        "            'country', \n",
        "            'term', \n",
        "            'rank', \n",
        "            'pol_stance',\n",
        "            'vid_stance',\n",
        "            'pew_2020', \n",
        "            'pew_2019',\n",
        "            'pew_2018', \n",
        "            'pew_2017'] \n",
        "data.columns = new_cols\n",
        "data.head()"
      ],
      "execution_count": 84,
      "outputs": [
        {
          "output_type": "execute_result",
          "data": {
            "text/html": [
              "<div>\n",
              "<style scoped>\n",
              "    .dataframe tbody tr th:only-of-type {\n",
              "        vertical-align: middle;\n",
              "    }\n",
              "\n",
              "    .dataframe tbody tr th {\n",
              "        vertical-align: top;\n",
              "    }\n",
              "\n",
              "    .dataframe thead th {\n",
              "        text-align: right;\n",
              "    }\n",
              "</style>\n",
              "<table border=\"1\" class=\"dataframe\">\n",
              "  <thead>\n",
              "    <tr style=\"text-align: right;\">\n",
              "      <th></th>\n",
              "      <th>url</th>\n",
              "      <th>title</th>\n",
              "      <th>country</th>\n",
              "      <th>term</th>\n",
              "      <th>rank</th>\n",
              "      <th>pol_stance</th>\n",
              "      <th>vid_stance</th>\n",
              "      <th>pew_2020</th>\n",
              "      <th>pew_2019</th>\n",
              "      <th>pew_2018</th>\n",
              "      <th>pew_2017</th>\n",
              "    </tr>\n",
              "  </thead>\n",
              "  <tbody>\n",
              "    <tr>\n",
              "      <th>0</th>\n",
              "      <td>https://www.youtube.com/watch?v=U3YBomwuB10</td>\n",
              "      <td>What's China's 're-education camp' in Xinjiang...</td>\n",
              "      <td>Italy</td>\n",
              "      <td>Xinjiang</td>\n",
              "      <td>1</td>\n",
              "      <td>None</td>\n",
              "      <td>Pro-China</td>\n",
              "      <td>-24</td>\n",
              "      <td>-20</td>\n",
              "      <td>-31</td>\n",
              "      <td>-28</td>\n",
              "    </tr>\n",
              "    <tr>\n",
              "      <th>1</th>\n",
              "      <td>https://www.youtube.com/watch?v=lOhldJyDFck</td>\n",
              "      <td>Chinese musical whitewashes human-rights abuse...</td>\n",
              "      <td>Italy</td>\n",
              "      <td>Xinjiang</td>\n",
              "      <td>2</td>\n",
              "      <td>None</td>\n",
              "      <td>Critical</td>\n",
              "      <td>-24</td>\n",
              "      <td>-20</td>\n",
              "      <td>-31</td>\n",
              "      <td>-28</td>\n",
              "    </tr>\n",
              "    <tr>\n",
              "      <th>2</th>\n",
              "      <td>https://www.youtube.com/watch?v=1id-rhHp2wc</td>\n",
              "      <td>China's Xinjiang Cotton Drama Explained</td>\n",
              "      <td>Italy</td>\n",
              "      <td>Xinjiang</td>\n",
              "      <td>3</td>\n",
              "      <td>None</td>\n",
              "      <td>Critical</td>\n",
              "      <td>-24</td>\n",
              "      <td>-20</td>\n",
              "      <td>-31</td>\n",
              "      <td>-28</td>\n",
              "    </tr>\n",
              "    <tr>\n",
              "      <th>3</th>\n",
              "      <td>https://www.youtube.com/watch?v=v_XI-aiCa34</td>\n",
              "      <td>Western media’s disinformation campaign: two t...</td>\n",
              "      <td>Italy</td>\n",
              "      <td>Xinjiang</td>\n",
              "      <td>4</td>\n",
              "      <td>None</td>\n",
              "      <td>Pro-China</td>\n",
              "      <td>-24</td>\n",
              "      <td>-20</td>\n",
              "      <td>-31</td>\n",
              "      <td>-28</td>\n",
              "    </tr>\n",
              "    <tr>\n",
              "      <th>4</th>\n",
              "      <td>https://www.youtube.com/watch?v=yUg-w0tdyBs</td>\n",
              "      <td>Explainer: Why Xinjiang is so important to China</td>\n",
              "      <td>Italy</td>\n",
              "      <td>Xinjiang</td>\n",
              "      <td>5</td>\n",
              "      <td>None</td>\n",
              "      <td>Balanced</td>\n",
              "      <td>-24</td>\n",
              "      <td>-20</td>\n",
              "      <td>-31</td>\n",
              "      <td>-28</td>\n",
              "    </tr>\n",
              "  </tbody>\n",
              "</table>\n",
              "</div>"
            ],
            "text/plain": [
              "                                           url  ... pew_2017\n",
              "0  https://www.youtube.com/watch?v=U3YBomwuB10  ...      -28\n",
              "1  https://www.youtube.com/watch?v=lOhldJyDFck  ...      -28\n",
              "2  https://www.youtube.com/watch?v=1id-rhHp2wc  ...      -28\n",
              "3  https://www.youtube.com/watch?v=v_XI-aiCa34  ...      -28\n",
              "4  https://www.youtube.com/watch?v=yUg-w0tdyBs  ...      -28\n",
              "\n",
              "[5 rows x 11 columns]"
            ]
          },
          "metadata": {
            "tags": []
          },
          "execution_count": 84
        }
      ]
    },
    {
      "cell_type": "code",
      "metadata": {
        "id": "c4gzbYsLg3aU"
      },
      "source": [
        "clean_pew = data[(data['pew_2020'] != 0) &\n",
        "                 (data['pew_2019'] != 0) &\n",
        "                 (data['pew_2018'] != 0) &\n",
        "                 (data['pew_2017'] != 0)].iloc[:,7:11]"
      ],
      "execution_count": 85,
      "outputs": []
    },
    {
      "cell_type": "code",
      "metadata": {
        "colab": {
          "base_uri": "https://localhost:8080/",
          "height": 297
        },
        "id": "9ynZAS-q2Jop",
        "outputId": "82827187-7239-4a36-c4fc-19ce388054ba"
      },
      "source": [
        "clean_pew.describe()"
      ],
      "execution_count": 86,
      "outputs": [
        {
          "output_type": "execute_result",
          "data": {
            "text/html": [
              "<div>\n",
              "<style scoped>\n",
              "    .dataframe tbody tr th:only-of-type {\n",
              "        vertical-align: middle;\n",
              "    }\n",
              "\n",
              "    .dataframe tbody tr th {\n",
              "        vertical-align: top;\n",
              "    }\n",
              "\n",
              "    .dataframe thead th {\n",
              "        text-align: right;\n",
              "    }\n",
              "</style>\n",
              "<table border=\"1\" class=\"dataframe\">\n",
              "  <thead>\n",
              "    <tr style=\"text-align: right;\">\n",
              "      <th></th>\n",
              "      <th>pew_2020</th>\n",
              "      <th>pew_2019</th>\n",
              "      <th>pew_2018</th>\n",
              "      <th>pew_2017</th>\n",
              "    </tr>\n",
              "  </thead>\n",
              "  <tbody>\n",
              "    <tr>\n",
              "      <th>count</th>\n",
              "      <td>360.000000</td>\n",
              "      <td>360.000000</td>\n",
              "      <td>360.000000</td>\n",
              "      <td>360.000000</td>\n",
              "    </tr>\n",
              "    <tr>\n",
              "      <th>mean</th>\n",
              "      <td>-44.000000</td>\n",
              "      <td>-24.333333</td>\n",
              "      <td>-14.666667</td>\n",
              "      <td>-13.000000</td>\n",
              "    </tr>\n",
              "    <tr>\n",
              "      <th>std</th>\n",
              "      <td>9.304505</td>\n",
              "      <td>3.500895</td>\n",
              "      <td>10.288323</td>\n",
              "      <td>12.811033</td>\n",
              "    </tr>\n",
              "    <tr>\n",
              "      <th>min</th>\n",
              "      <td>-51.000000</td>\n",
              "      <td>-29.000000</td>\n",
              "      <td>-31.000000</td>\n",
              "      <td>-28.000000</td>\n",
              "    </tr>\n",
              "    <tr>\n",
              "      <th>25%</th>\n",
              "      <td>-51.000000</td>\n",
              "      <td>-29.000000</td>\n",
              "      <td>-22.000000</td>\n",
              "      <td>-27.000000</td>\n",
              "    </tr>\n",
              "    <tr>\n",
              "      <th>50%</th>\n",
              "      <td>-47.000000</td>\n",
              "      <td>-23.000000</td>\n",
              "      <td>-14.000000</td>\n",
              "      <td>-13.500000</td>\n",
              "    </tr>\n",
              "    <tr>\n",
              "      <th>75%</th>\n",
              "      <td>-44.000000</td>\n",
              "      <td>-22.000000</td>\n",
              "      <td>-9.000000</td>\n",
              "      <td>-3.000000</td>\n",
              "    </tr>\n",
              "    <tr>\n",
              "      <th>max</th>\n",
              "      <td>-24.000000</td>\n",
              "      <td>-20.000000</td>\n",
              "      <td>2.000000</td>\n",
              "      <td>7.000000</td>\n",
              "    </tr>\n",
              "  </tbody>\n",
              "</table>\n",
              "</div>"
            ],
            "text/plain": [
              "         pew_2020    pew_2019    pew_2018    pew_2017\n",
              "count  360.000000  360.000000  360.000000  360.000000\n",
              "mean   -44.000000  -24.333333  -14.666667  -13.000000\n",
              "std      9.304505    3.500895   10.288323   12.811033\n",
              "min    -51.000000  -29.000000  -31.000000  -28.000000\n",
              "25%    -51.000000  -29.000000  -22.000000  -27.000000\n",
              "50%    -47.000000  -23.000000  -14.000000  -13.500000\n",
              "75%    -44.000000  -22.000000   -9.000000   -3.000000\n",
              "max    -24.000000  -20.000000    2.000000    7.000000"
            ]
          },
          "metadata": {
            "tags": []
          },
          "execution_count": 86
        }
      ]
    },
    {
      "cell_type": "code",
      "metadata": {
        "colab": {
          "base_uri": "https://localhost:8080/",
          "height": 280
        },
        "id": "0Rzuw4nB3yX5",
        "outputId": "4792e522-3999-4862-f69f-bc8421708d6b"
      },
      "source": [
        "sns.histplot(data['vid_stance'], stat='density')\n",
        "# plt.savefig(\"vid_stance.png\")\n",
        "# files.download(\"vid_stance.png\") \n",
        "plt.show()"
      ],
      "execution_count": 87,
      "outputs": [
        {
          "output_type": "display_data",
          "data": {
            "image/png": "[encoded data removed]",
            "text/plain": [
              "<Figure size 432x288 with 1 Axes>"
            ]
          },
          "metadata": {
            "tags": [],
            "needs_background": "light"
          }
        }
      ]
    },
    {
      "cell_type": "code",
      "metadata": {
        "colab": {
          "base_uri": "https://localhost:8080/",
          "height": 280
        },
        "id": "uqkJmAR9KXbG",
        "outputId": "2040d751-9d3c-4da1-e8fe-8b4c6daed25c"
      },
      "source": [
        "sns.histplot(data[data['term'] == 'Xinjiang']['vid_stance'], stat='density')\n",
        "# plt.savefig(\"vid_stance_neutral.png\")\n",
        "# files.download(\"vid_stance_neutral.png\") \n",
        "plt.show()"
      ],
      "execution_count": 88,
      "outputs": [
        {
          "output_type": "display_data",
          "data": {
            "image/png": "[encoded data removed]",
            "text/plain": [
              "<Figure size 432x288 with 1 Axes>"
            ]
          },
          "metadata": {
            "tags": [],
            "needs_background": "light"
          }
        }
      ]
    },
    {
      "cell_type": "code",
      "metadata": {
        "colab": {
          "base_uri": "https://localhost:8080/"
        },
        "id": "h9phYRv645Xs",
        "outputId": "a2b6d9d3-afb7-4fd0-9f24-01e85e5f3ead"
      },
      "source": [
        "data['title'].value_counts()"
      ],
      "execution_count": 89,
      "outputs": [
        {
          "output_type": "execute_result",
          "data": {
            "text/plain": [
              "Fighting Terrorism in Xinjiang                                                                            46\n",
              "What's China's 're-education camp' in Xinjiang really about?                                              38\n",
              "Xinjiang: China's Muslim minorities | DW Documentary                                                      29\n",
              "China’s Vanishing Muslims: Undercover In The Most Dystopian Place In The World                            29\n",
              "How China is crushing the Uyghurs | The Economist                                                         26\n",
              "                                                                                                          ..\n",
              "1:24 Most are Muslims, they have their own language and they live in what's called the Xinjiang Uighur     1\n",
              "4:01\\nWATCH LATER\\nADD TO QUEUE                                                                            1\n",
              "Visiting Urumqi - why is there so much tension in Xinjiang? (China)                                        1\n",
              "8:45\\nWATCH LATER\\nADD TO QUEUE                                                                            1\n",
              "Northern Ireland violence: Why teenagers are rioting?                                                      1\n",
              "Name: title, Length: 113, dtype: int64"
            ]
          },
          "metadata": {
            "tags": []
          },
          "execution_count": 89
        }
      ]
    },
    {
      "cell_type": "code",
      "metadata": {
        "colab": {
          "base_uri": "https://localhost:8080/"
        },
        "id": "5G_bTZvtMG-3",
        "outputId": "412d7bfa-7c09-4753-cdba-0cfd7ebef5f7"
      },
      "source": [
        "data[data['term'] == 'Xinjiang']['title'].value_counts()"
      ],
      "execution_count": 90,
      "outputs": [
        {
          "output_type": "execute_result",
          "data": {
            "text/plain": [
              "21 workers trapped in flooded mine in China’s Xinjiang                          15\n",
              "Chinese musical whitewashes human-rights abuse in Xinjiang | DW News            14\n",
              "Xinjiang: China's Muslim minorities | DW Documentary                            14\n",
              "Is Xinjiang safe? Our first hand road trip experience!                          13\n",
              "What's China's 're-education camp' in Xinjiang really about?                    12\n",
              "                                                                                ..\n",
              "Liu Xin talks to foreign blogger on his experience in Xinjiang                   1\n",
              "Northern Ireland violence: Why teenagers are rioting?                            1\n",
              "Inside Sheng Siong supermarket billionaire Lim Hock Leng’s home in Singapore     1\n",
              "Severe crisis is forcing Venezuelans to reinvent themselves                      1\n",
              "Tensions rise as Beijing steps up military presence in South China Sea           1\n",
              "Name: title, Length: 71, dtype: int64"
            ]
          },
          "metadata": {
            "tags": []
          },
          "execution_count": 90
        }
      ]
    },
    {
      "cell_type": "code",
      "metadata": {
        "colab": {
          "base_uri": "https://localhost:8080/"
        },
        "id": "OzSMsB4dMRso",
        "outputId": "ea88c97c-fa4d-42ac-b3e4-df7dc9174bfe"
      },
      "source": [
        "data[data['term'] == 'Xinjiang Terrorism']['title'].value_counts()"
      ],
      "execution_count": 91,
      "outputs": [
        {
          "output_type": "execute_result",
          "data": {
            "text/plain": [
              "Fighting Terrorism in Xinjiang                                                    45\n",
              "China's Hidden War On Terror: Special Report                                      15\n",
              "Terror Attack in Xinjiang Autonomous Region                                       15\n",
              "The Black Hand — ETIM and Terrorism in Xinjiang                                   15\n",
              "China blames 'terrorist' for deadly clashes in troubled Xinjiang                  15\n",
              "China, Xinjiang and the Roots of Uyghur Separatism and Terrorism                  15\n",
              "The War in the Shadows: Challenges of Fighting Terrorism in Xinjiang              15\n",
              "Footage of Suicide Bombing in China's Xinjiang Released for First Time            15\n",
              "《暗流涌动——中国新疆反恐挑战》| CCTV中文国际                                                        15\n",
              "Training child terrorists on China's frontier                                     15\n",
              "The black hand — ETIM and terrorism in Xinjiang                                   15\n",
              "China executes eight Uighurs convicted of terror offenses | Journal               15\n",
              "China's “War on Terrorism” and the Xinjiang Emergency                             14\n",
              "What's China's 're-education camp' in Xinjiang really about?                      13\n",
              "Inside China's 'thought transformation' camps - BBC News                          13\n",
              "Hundreds Of People Killed In Xinjiang Riot - Bloomberg                            13\n",
              "China’s Vanishing Muslims: Undercover In The Most Dystopian Place In The World    12\n",
              "\"I will kill my son\": Radicalized extremist in Xinjiang                           11\n",
              "Gravitas: China accuses US of funding terror in Xinjiang                           2\n",
              "Living on Minimum Wage                                                             2\n",
              "50:02\\nWATCH LATER\\nADD TO QUEUE                                                   2\n",
              "The Black Hand-ETIM and Terrorism in Xinjiang                                      1\n",
              "Uygur woman describes torture in China’s Xinjiang ‘vocational training’ camps      1\n",
              "Fighting terrorism in Xinjiang                                                     1\n",
              "China defends Uighur policy and 'fight against violent terrorists' | DW News       1\n",
              "How China is crushing the Uyghurs | The Economist                                  1\n",
              "CGTN finds Mihrigul Tursun's claims false                                          1\n",
              "Inside Story - Chinese Uighurs: separatism vs terrorism?                           1\n",
              "Severe crisis is forcing Venezuelans to reinvent themselves                        1\n",
              "Name: title, dtype: int64"
            ]
          },
          "metadata": {
            "tags": []
          },
          "execution_count": 91
        }
      ]
    },
    {
      "cell_type": "code",
      "metadata": {
        "colab": {
          "base_uri": "https://localhost:8080/"
        },
        "id": "m8zkTA7ggzAv",
        "outputId": "eea6d649-2d96-4eed-c394-d0f30fd498ca"
      },
      "source": [
        "data[data['term'] == 'Xinjiang Uighurs']['title'].value_counts()"
      ],
      "execution_count": 92,
      "outputs": [
        {
          "output_type": "execute_result",
          "data": {
            "text/plain": [
              "Uygur woman describes torture in China’s Xinjiang ‘vocational training’ camps                             15\n",
              "New evidence of Uighur forced labour in China’s cotton industry - BBC News                                15\n",
              "China's ambassador denies abuse of Uighurs in Xinjiang during Andrew Marr interview                       15\n",
              "China’s Vanishing Muslims: Undercover In The Most Dystopian Place In The World                            15\n",
              "How China is crushing the Uyghurs | The Economist                                                         15\n",
              "Xinjiang: China's Muslim minorities | DW Documentary                                                      15\n",
              "China & Uighurs: Last Week Tonight with John Oliver (HBO)                                                 15\n",
              "China's Uighur camp detainees allege systematic rape - BBC News                                           15\n",
              "China sentences two Uighur ex-govt officials in Xinjiang to death for 'separatism'| Minority | World      15\n",
              "China reportedly expands Xinjiang Uighur detention camps | DW News                                        15\n",
              "New evidence of China moving Uighur minority workers in order to uproot communities - BBC News            15\n",
              "UN Chief Antonio Guterres demands Xinjiang region's access from China | Muslim Uighurs News               13\n",
              "What's China's 're-education camp' in Xinjiang really about?                                              13\n",
              "Rare footage of former model held for “re-education” in China’s detention system - BBC News               12\n",
              "China: Uighurs convicted in sham trials at Xinjiang camps | DW Exclusive                                  12\n",
              "A Secret Look Inside a Chinese Labor Program for Uighurs | Visual Investigations                          11\n",
              "Inside China's 'thought transformation' camps - BBC News                                                  10\n",
              "What’s happening with China’s Uighurs? | Start Here                                                        8\n",
              "How China is creating the world’s largest prison | Four Corners                                            7\n",
              "Explainer: Why Xinjiang is so important to China                                                           6\n",
              "Are There 3 Million Uighurs in Detention Camps in Xinjiang, China?                                         5\n",
              "Sky News Breakfast: Uighur workers, Hancock shares, Prince Philip's funeral preparations                   5\n",
              "Chinese musical whitewashes human-rights abuse in Xinjiang | DW News                                       5\n",
              "Why more than a million Uighurs are being held in camps in China                                           3\n",
              "US teenager's TikTok video on Uighur 'concentration camps' in China goes viral | The World                 3\n",
              "Chinese ambassador reacts to CNN Uyghur report                                                             3\n",
              "China refutes BBC report on women's rights abuses in Xinjiang                                              2\n",
              "Leaked files reveal China’s mass detention camps for Uighurs | The China Cables                            2\n",
              "Sky News Breakfast: Evidence shows Uighur workers advertised online in China                               2\n",
              "Gravitas: China accuses US of funding terror in Xinjiang                                                   2\n",
              "China accused of forcing 570,000 Uighurs to pick cotton in Xinjiang                                        2\n",
              "Is Xinjiang safe? Our first hand road trip experience!                                                     2\n",
              "1:24 Most are Muslims, they have their own language and they live in what's called the Xinjiang Uighur     1\n",
              "Putin: Last Week Tonight with John Oliver (HBO)                                                            1\n",
              "China: Batches of Uighur workers advertised on the internet                                                1\n",
              "8:45\\nWATCH LATER\\nADD TO QUEUE                                                                            1\n",
              "Sex-for-rent offered by landlords - BBC News                                                               1\n",
              "CNN finds stranded Uyghur children in China                                                                1\n",
              "Watch: Uyghur Muslims were whizzed off to detention camps in China's Xinjiang province                     1\n",
              "Name: title, dtype: int64"
            ]
          },
          "metadata": {
            "tags": []
          },
          "execution_count": 92
        }
      ]
    },
    {
      "cell_type": "code",
      "metadata": {
        "colab": {
          "base_uri": "https://localhost:8080/"
        },
        "id": "LaDesHfBLuYY",
        "outputId": "25d2fb0e-21cf-4f85-c05b-716ecc82f7db"
      },
      "source": [
        "data[data['pol_stance'] == 'Supports']['title'].value_counts()"
      ],
      "execution_count": 93,
      "outputs": [
        {
          "output_type": "execute_result",
          "data": {
            "text/plain": [
              "Fighting Terrorism in Xinjiang                                                    15\n",
              "What's China's 're-education camp' in Xinjiang really about?                      12\n",
              "China’s Vanishing Muslims: Undercover In The Most Dystopian Place In The World    10\n",
              "Xinjiang: China's Muslim minorities | DW Documentary                              10\n",
              "New evidence of Uighur forced labour in China’s cotton industry - BBC News         9\n",
              "                                                                                  ..\n",
              "Beijing faces new abuse claims from Xinjiang                                       1\n",
              "8:45\\nWATCH LATER\\nADD TO QUEUE                                                    1\n",
              "Visiting Urumqi - why is there so much tension in Xinjiang? (China)                1\n",
              "Viajando por Xinjiang - a região mais TENSA da CHINA                               1\n",
              "Vlogger Inggris: Bagaimana media Barat berbohong tentang Xinjiang                  1\n",
              "Name: title, Length: 74, dtype: int64"
            ]
          },
          "metadata": {
            "tags": []
          },
          "execution_count": 93
        }
      ]
    },
    {
      "cell_type": "code",
      "metadata": {
        "colab": {
          "base_uri": "https://localhost:8080/"
        },
        "id": "ij8Im9SNLuKx",
        "outputId": "25490278-83b0-47dd-ae29-e6b6d54b2cbd"
      },
      "source": [
        "data[data['pol_stance'] == 'None']['title'].value_counts()"
      ],
      "execution_count": 94,
      "outputs": [
        {
          "output_type": "execute_result",
          "data": {
            "text/plain": [
              "Fighting Terrorism in Xinjiang                                                                            16\n",
              "What's China's 're-education camp' in Xinjiang really about?                                              13\n",
              "Inside China's 'thought transformation' camps - BBC News                                                  10\n",
              "Xinjiang: China's Muslim minorities | DW Documentary                                                       9\n",
              "China’s Vanishing Muslims: Undercover In The Most Dystopian Place In The World                             9\n",
              "                                                                                                          ..\n",
              "Western sanctions on China over Xinjiang trigger furious response                                          1\n",
              "Chinese ambassador reacts to CNN Uyghur report                                                             1\n",
              "1:24 Most are Muslims, they have their own language and they live in what's called the Xinjiang Uighur     1\n",
              "Gravitas: China accuses US of funding terror in Xinjiang                                                   1\n",
              "Living on Minimum Wage                                                                                     1\n",
              "Name: title, Length: 81, dtype: int64"
            ]
          },
          "metadata": {
            "tags": []
          },
          "execution_count": 94
        }
      ]
    },
    {
      "cell_type": "code",
      "metadata": {
        "colab": {
          "base_uri": "https://localhost:8080/"
        },
        "id": "ghc23Z6bLt1b",
        "outputId": "dbe5c4e0-df60-43ac-b87e-5582a12aaa39"
      },
      "source": [
        "data[data['pol_stance'] == 'Condemns']['title'].value_counts()"
      ],
      "execution_count": 95,
      "outputs": [
        {
          "output_type": "execute_result",
          "data": {
            "text/plain": [
              "Fighting Terrorism in Xinjiang                                                    15\n",
              "What's China's 're-education camp' in Xinjiang really about?                      13\n",
              "China’s Vanishing Muslims: Undercover In The Most Dystopian Place In The World    10\n",
              "Xinjiang: China's Muslim minorities | DW Documentary                              10\n",
              "How China is crushing the Uyghurs | The Economist                                  9\n",
              "                                                                                  ..\n",
              "Western sanctions on China over Xinjiang trigger furious response                  1\n",
              "Northern Ireland violence: Why teenagers are rioting?                              1\n",
              "China: Batches of Uighur workers advertised on the internet                        1\n",
              "Liu Xin talks to foreign blogger on his experience in Xinjiang                     1\n",
              "Living on Minimum Wage                                                             1\n",
              "Name: title, Length: 83, dtype: int64"
            ]
          },
          "metadata": {
            "tags": []
          },
          "execution_count": 95
        }
      ]
    },
    {
      "cell_type": "code",
      "metadata": {
        "id": "dspujZvA7EnN"
      },
      "source": [
        "pol = data.copy()\n",
        "pol = pol.loc[:,'term':'vid_stance']\n",
        "pol['pro_china'] = [1 if stance == 'Pro-China' else 0 for stance in pol['vid_stance']]\n",
        "pol['balanced'] = [1 if stance == 'Balanced' else 0 for stance in pol['vid_stance']]\n",
        "pol['critical'] = [1 if stance == 'Critical' else 0 for stance in pol['vid_stance']]\n",
        "pol[\n",
        "    ['pro_china', 'balanced', 'critical']\n",
        "    ] = pol[\n",
        "            ['pro_china', 'balanced', 'critical']\n",
        "            ].apply(lambda stance : stance / pol['rank'])\n",
        "pol['supports'] = [1 if stance == 'Supports' else 0 for stance in pol['pol_stance']]"
      ],
      "execution_count": 96,
      "outputs": []
    },
    {
      "cell_type": "code",
      "metadata": {
        "colab": {
          "base_uri": "https://localhost:8080/",
          "height": 419
        },
        "id": "gTXAlAwKO_YX",
        "outputId": "e8a6e5b6-9efb-4d70-ed78-0c2b3aa10c48"
      },
      "source": [
        "pol_test = pol.drop(['term', 'pol_stance','vid_stance', 'rank'], axis=1)\n",
        "pol_test"
      ],
      "execution_count": 122,
      "outputs": [
        {
          "output_type": "execute_result",
          "data": {
            "text/html": [
              "<div>\n",
              "<style scoped>\n",
              "    .dataframe tbody tr th:only-of-type {\n",
              "        vertical-align: middle;\n",
              "    }\n",
              "\n",
              "    .dataframe tbody tr th {\n",
              "        vertical-align: top;\n",
              "    }\n",
              "\n",
              "    .dataframe thead th {\n",
              "        text-align: right;\n",
              "    }\n",
              "</style>\n",
              "<table border=\"1\" class=\"dataframe\">\n",
              "  <thead>\n",
              "    <tr style=\"text-align: right;\">\n",
              "      <th></th>\n",
              "      <th>pro_china</th>\n",
              "      <th>balanced</th>\n",
              "      <th>critical</th>\n",
              "      <th>supports</th>\n",
              "    </tr>\n",
              "  </thead>\n",
              "  <tbody>\n",
              "    <tr>\n",
              "      <th>0</th>\n",
              "      <td>1.0000</td>\n",
              "      <td>0.0</td>\n",
              "      <td>0.000000</td>\n",
              "      <td>0</td>\n",
              "    </tr>\n",
              "    <tr>\n",
              "      <th>1</th>\n",
              "      <td>0.0000</td>\n",
              "      <td>0.0</td>\n",
              "      <td>0.500000</td>\n",
              "      <td>0</td>\n",
              "    </tr>\n",
              "    <tr>\n",
              "      <th>2</th>\n",
              "      <td>0.0000</td>\n",
              "      <td>0.0</td>\n",
              "      <td>0.333333</td>\n",
              "      <td>0</td>\n",
              "    </tr>\n",
              "    <tr>\n",
              "      <th>3</th>\n",
              "      <td>0.2500</td>\n",
              "      <td>0.0</td>\n",
              "      <td>0.000000</td>\n",
              "      <td>0</td>\n",
              "    </tr>\n",
              "    <tr>\n",
              "      <th>4</th>\n",
              "      <td>0.0000</td>\n",
              "      <td>0.2</td>\n",
              "      <td>0.000000</td>\n",
              "      <td>0</td>\n",
              "    </tr>\n",
              "    <tr>\n",
              "      <th>...</th>\n",
              "      <td>...</td>\n",
              "      <td>...</td>\n",
              "      <td>...</td>\n",
              "      <td>...</td>\n",
              "    </tr>\n",
              "    <tr>\n",
              "      <th>895</th>\n",
              "      <td>0.0625</td>\n",
              "      <td>0.0</td>\n",
              "      <td>0.000000</td>\n",
              "      <td>1</td>\n",
              "    </tr>\n",
              "    <tr>\n",
              "      <th>896</th>\n",
              "      <td>0.0000</td>\n",
              "      <td>0.0</td>\n",
              "      <td>0.058824</td>\n",
              "      <td>1</td>\n",
              "    </tr>\n",
              "    <tr>\n",
              "      <th>897</th>\n",
              "      <td>0.0000</td>\n",
              "      <td>0.0</td>\n",
              "      <td>0.055556</td>\n",
              "      <td>1</td>\n",
              "    </tr>\n",
              "    <tr>\n",
              "      <th>898</th>\n",
              "      <td>0.0000</td>\n",
              "      <td>0.0</td>\n",
              "      <td>0.052632</td>\n",
              "      <td>1</td>\n",
              "    </tr>\n",
              "    <tr>\n",
              "      <th>899</th>\n",
              "      <td>0.0000</td>\n",
              "      <td>0.0</td>\n",
              "      <td>0.050000</td>\n",
              "      <td>1</td>\n",
              "    </tr>\n",
              "  </tbody>\n",
              "</table>\n",
              "<p>900 rows × 4 columns</p>\n",
              "</div>"
            ],
            "text/plain": [
              "     pro_china  balanced  critical  supports\n",
              "0       1.0000       0.0  0.000000         0\n",
              "1       0.0000       0.0  0.500000         0\n",
              "2       0.0000       0.0  0.333333         0\n",
              "3       0.2500       0.0  0.000000         0\n",
              "4       0.0000       0.2  0.000000         0\n",
              "..         ...       ...       ...       ...\n",
              "895     0.0625       0.0  0.000000         1\n",
              "896     0.0000       0.0  0.058824         1\n",
              "897     0.0000       0.0  0.055556         1\n",
              "898     0.0000       0.0  0.052632         1\n",
              "899     0.0000       0.0  0.050000         1\n",
              "\n",
              "[900 rows x 4 columns]"
            ]
          },
          "metadata": {
            "tags": []
          },
          "execution_count": 122
        }
      ]
    },
    {
      "cell_type": "code",
      "metadata": {
        "id": "3oOoOLqUCHIG"
      },
      "source": [
        "import statsmodels.api as sm\n",
        "dependentpol = pol['supports']"
      ],
      "execution_count": 98,
      "outputs": []
    },
    {
      "cell_type": "code",
      "metadata": {
        "colab": {
          "base_uri": "https://localhost:8080/",
          "height": 341
        },
        "id": "Mhxv-3EdCTEi",
        "outputId": "66e0710a-3d88-4be2-e672-a186c404b5b8"
      },
      "source": [
        "allindependentpol = pol_test[['pro_china', 'balanced', 'critical']]\n",
        "allindependentpol_c = sm.add_constant(allindependentpol)\n",
        "polmodel = sm.Logit(dependentpol, \n",
        "                    allindependentpol_c)\n",
        "polmodel = polmodel.fit()\n",
        "polmodel.summary()"
      ],
      "execution_count": 110,
      "outputs": [
        {
          "output_type": "stream",
          "text": [
            "Optimization terminated successfully.\n",
            "         Current function value: 0.634883\n",
            "         Iterations 6\n"
          ],
          "name": "stdout"
        },
        {
          "output_type": "execute_result",
          "data": {
            "text/html": [
              "<table class=\"simpletable\">\n",
              "<caption>Logit Regression Results</caption>\n",
              "<tr>\n",
              "  <th>Dep. Variable:</th>       <td>supports</td>     <th>  No. Observations:  </th>  <td>   900</td> \n",
              "</tr>\n",
              "<tr>\n",
              "  <th>Model:</th>                 <td>Logit</td>      <th>  Df Residuals:      </th>  <td>   896</td> \n",
              "</tr>\n",
              "<tr>\n",
              "  <th>Method:</th>                 <td>MLE</td>       <th>  Df Model:          </th>  <td>     3</td> \n",
              "</tr>\n",
              "<tr>\n",
              "  <th>Date:</th>            <td>Mon, 19 Apr 2021</td> <th>  Pseudo R-squ.:     </th> <td>0.002563</td>\n",
              "</tr>\n",
              "<tr>\n",
              "  <th>Time:</th>                <td>15:00:49</td>     <th>  Log-Likelihood:    </th> <td> -571.39</td>\n",
              "</tr>\n",
              "<tr>\n",
              "  <th>converged:</th>             <td>True</td>       <th>  LL-Null:           </th> <td> -572.86</td>\n",
              "</tr>\n",
              "<tr>\n",
              "  <th>Covariance Type:</th>     <td>nonrobust</td>    <th>  LLR p-value:       </th>  <td>0.4014</td> \n",
              "</tr>\n",
              "</table>\n",
              "<table class=\"simpletable\">\n",
              "<tr>\n",
              "      <td></td>         <th>coef</th>     <th>std err</th>      <th>z</th>      <th>P>|z|</th>  <th>[0.025</th>    <th>0.975]</th>  \n",
              "</tr>\n",
              "<tr>\n",
              "  <th>const</th>     <td>   -0.6881</td> <td>    0.087</td> <td>   -7.877</td> <td> 0.000</td> <td>   -0.859</td> <td>   -0.517</td>\n",
              "</tr>\n",
              "<tr>\n",
              "  <th>pro_china</th> <td>   -0.4233</td> <td>    0.466</td> <td>   -0.908</td> <td> 0.364</td> <td>   -1.337</td> <td>    0.490</td>\n",
              "</tr>\n",
              "<tr>\n",
              "  <th>balanced</th>  <td>    3.0005</td> <td>    2.805</td> <td>    1.070</td> <td> 0.285</td> <td>   -2.497</td> <td>    8.498</td>\n",
              "</tr>\n",
              "<tr>\n",
              "  <th>critical</th>  <td>    0.0895</td> <td>    0.412</td> <td>    0.217</td> <td> 0.828</td> <td>   -0.719</td> <td>    0.898</td>\n",
              "</tr>\n",
              "</table>"
            ],
            "text/plain": [
              "<class 'statsmodels.iolib.summary.Summary'>\n",
              "\"\"\"\n",
              "                           Logit Regression Results                           \n",
              "==============================================================================\n",
              "Dep. Variable:               supports   No. Observations:                  900\n",
              "Model:                          Logit   Df Residuals:                      896\n",
              "Method:                           MLE   Df Model:                            3\n",
              "Date:                Mon, 19 Apr 2021   Pseudo R-squ.:                0.002563\n",
              "Time:                        15:00:49   Log-Likelihood:                -571.39\n",
              "converged:                       True   LL-Null:                       -572.86\n",
              "Covariance Type:            nonrobust   LLR p-value:                    0.4014\n",
              "==============================================================================\n",
              "                 coef    std err          z      P>|z|      [0.025      0.975]\n",
              "------------------------------------------------------------------------------\n",
              "const         -0.6881      0.087     -7.877      0.000      -0.859      -0.517\n",
              "pro_china     -0.4233      0.466     -0.908      0.364      -1.337       0.490\n",
              "balanced       3.0005      2.805      1.070      0.285      -2.497       8.498\n",
              "critical       0.0895      0.412      0.217      0.828      -0.719       0.898\n",
              "==============================================================================\n",
              "\"\"\""
            ]
          },
          "metadata": {
            "tags": []
          },
          "execution_count": 110
        }
      ]
    },
    {
      "cell_type": "code",
      "metadata": {
        "colab": {
          "base_uri": "https://localhost:8080/",
          "height": 204
        },
        "id": "GWPsT-qxOK-K",
        "outputId": "9f268cf2-a476-4dce-f2ac-35207500f10e"
      },
      "source": [
        "first_five = pol.copy()\n",
        "first_five = first_five[(first_five['rank'] > 0) & (first_five['rank'] < 6)]\n",
        "first_five = first_five.drop(['term', 'pol_stance', 'vid_stance', 'rank'], axis=1)\n",
        "first_five.head()"
      ],
      "execution_count": 111,
      "outputs": [
        {
          "output_type": "execute_result",
          "data": {
            "text/html": [
              "<div>\n",
              "<style scoped>\n",
              "    .dataframe tbody tr th:only-of-type {\n",
              "        vertical-align: middle;\n",
              "    }\n",
              "\n",
              "    .dataframe tbody tr th {\n",
              "        vertical-align: top;\n",
              "    }\n",
              "\n",
              "    .dataframe thead th {\n",
              "        text-align: right;\n",
              "    }\n",
              "</style>\n",
              "<table border=\"1\" class=\"dataframe\">\n",
              "  <thead>\n",
              "    <tr style=\"text-align: right;\">\n",
              "      <th></th>\n",
              "      <th>pro_china</th>\n",
              "      <th>balanced</th>\n",
              "      <th>critical</th>\n",
              "      <th>supports</th>\n",
              "    </tr>\n",
              "  </thead>\n",
              "  <tbody>\n",
              "    <tr>\n",
              "      <th>0</th>\n",
              "      <td>1.00</td>\n",
              "      <td>0.0</td>\n",
              "      <td>0.000000</td>\n",
              "      <td>0</td>\n",
              "    </tr>\n",
              "    <tr>\n",
              "      <th>1</th>\n",
              "      <td>0.00</td>\n",
              "      <td>0.0</td>\n",
              "      <td>0.500000</td>\n",
              "      <td>0</td>\n",
              "    </tr>\n",
              "    <tr>\n",
              "      <th>2</th>\n",
              "      <td>0.00</td>\n",
              "      <td>0.0</td>\n",
              "      <td>0.333333</td>\n",
              "      <td>0</td>\n",
              "    </tr>\n",
              "    <tr>\n",
              "      <th>3</th>\n",
              "      <td>0.25</td>\n",
              "      <td>0.0</td>\n",
              "      <td>0.000000</td>\n",
              "      <td>0</td>\n",
              "    </tr>\n",
              "    <tr>\n",
              "      <th>4</th>\n",
              "      <td>0.00</td>\n",
              "      <td>0.2</td>\n",
              "      <td>0.000000</td>\n",
              "      <td>0</td>\n",
              "    </tr>\n",
              "  </tbody>\n",
              "</table>\n",
              "</div>"
            ],
            "text/plain": [
              "   pro_china  balanced  critical  supports\n",
              "0       1.00       0.0  0.000000         0\n",
              "1       0.00       0.0  0.500000         0\n",
              "2       0.00       0.0  0.333333         0\n",
              "3       0.25       0.0  0.000000         0\n",
              "4       0.00       0.2  0.000000         0"
            ]
          },
          "metadata": {
            "tags": []
          },
          "execution_count": 111
        }
      ]
    },
    {
      "cell_type": "code",
      "metadata": {
        "colab": {
          "base_uri": "https://localhost:8080/",
          "height": 341
        },
        "id": "OnY9F4uqPS2s",
        "outputId": "a2a83c96-3867-40ba-a905-86bb0e0c4838"
      },
      "source": [
        "dependentff = first_five['supports']\n",
        "allindependentff = first_five[['pro_china', 'balanced', 'critical']]\n",
        "allindependentff_c = sm.add_constant(allindependentff)\n",
        "ffmodel = sm.Logit(dependentff, \n",
        "                 allindependentff_c)\n",
        "ffmodel = ffmodel.fit()\n",
        "ffmodel.summary()"
      ],
      "execution_count": 112,
      "outputs": [
        {
          "output_type": "stream",
          "text": [
            "Optimization terminated successfully.\n",
            "         Current function value: 0.629935\n",
            "         Iterations 6\n"
          ],
          "name": "stdout"
        },
        {
          "output_type": "execute_result",
          "data": {
            "text/html": [
              "<table class=\"simpletable\">\n",
              "<caption>Logit Regression Results</caption>\n",
              "<tr>\n",
              "  <th>Dep. Variable:</th>       <td>supports</td>     <th>  No. Observations:  </th>  <td>   225</td> \n",
              "</tr>\n",
              "<tr>\n",
              "  <th>Model:</th>                 <td>Logit</td>      <th>  Df Residuals:      </th>  <td>   221</td> \n",
              "</tr>\n",
              "<tr>\n",
              "  <th>Method:</th>                 <td>MLE</td>       <th>  Df Model:          </th>  <td>     3</td> \n",
              "</tr>\n",
              "<tr>\n",
              "  <th>Date:</th>            <td>Mon, 19 Apr 2021</td> <th>  Pseudo R-squ.:     </th>  <td>0.01034</td>\n",
              "</tr>\n",
              "<tr>\n",
              "  <th>Time:</th>                <td>15:01:03</td>     <th>  Log-Likelihood:    </th> <td> -141.74</td>\n",
              "</tr>\n",
              "<tr>\n",
              "  <th>converged:</th>             <td>True</td>       <th>  LL-Null:           </th> <td> -143.22</td>\n",
              "</tr>\n",
              "<tr>\n",
              "  <th>Covariance Type:</th>     <td>nonrobust</td>    <th>  LLR p-value:       </th>  <td>0.3977</td> \n",
              "</tr>\n",
              "</table>\n",
              "<table class=\"simpletable\">\n",
              "<tr>\n",
              "      <td></td>         <th>coef</th>     <th>std err</th>      <th>z</th>      <th>P>|z|</th>  <th>[0.025</th>    <th>0.975]</th>  \n",
              "</tr>\n",
              "<tr>\n",
              "  <th>const</th>     <td>   -0.6662</td> <td>    0.222</td> <td>   -2.995</td> <td> 0.003</td> <td>   -1.102</td> <td>   -0.230</td>\n",
              "</tr>\n",
              "<tr>\n",
              "  <th>pro_china</th> <td>   -0.5289</td> <td>    0.540</td> <td>   -0.979</td> <td> 0.327</td> <td>   -1.588</td> <td>    0.530</td>\n",
              "</tr>\n",
              "<tr>\n",
              "  <th>balanced</th>  <td>    2.9110</td> <td>    3.233</td> <td>    0.900</td> <td> 0.368</td> <td>   -3.425</td> <td>    9.247</td>\n",
              "</tr>\n",
              "<tr>\n",
              "  <th>critical</th>  <td>    0.1114</td> <td>    0.529</td> <td>    0.211</td> <td> 0.833</td> <td>   -0.925</td> <td>    1.147</td>\n",
              "</tr>\n",
              "</table>"
            ],
            "text/plain": [
              "<class 'statsmodels.iolib.summary.Summary'>\n",
              "\"\"\"\n",
              "                           Logit Regression Results                           \n",
              "==============================================================================\n",
              "Dep. Variable:               supports   No. Observations:                  225\n",
              "Model:                          Logit   Df Residuals:                      221\n",
              "Method:                           MLE   Df Model:                            3\n",
              "Date:                Mon, 19 Apr 2021   Pseudo R-squ.:                 0.01034\n",
              "Time:                        15:01:03   Log-Likelihood:                -141.74\n",
              "converged:                       True   LL-Null:                       -143.22\n",
              "Covariance Type:            nonrobust   LLR p-value:                    0.3977\n",
              "==============================================================================\n",
              "                 coef    std err          z      P>|z|      [0.025      0.975]\n",
              "------------------------------------------------------------------------------\n",
              "const         -0.6662      0.222     -2.995      0.003      -1.102      -0.230\n",
              "pro_china     -0.5289      0.540     -0.979      0.327      -1.588       0.530\n",
              "balanced       2.9110      3.233      0.900      0.368      -3.425       9.247\n",
              "critical       0.1114      0.529      0.211      0.833      -0.925       1.147\n",
              "==============================================================================\n",
              "\"\"\""
            ]
          },
          "metadata": {
            "tags": []
          },
          "execution_count": 112
        }
      ]
    },
    {
      "cell_type": "code",
      "metadata": {
        "colab": {
          "base_uri": "https://localhost:8080/",
          "height": 419
        },
        "id": "2r96JndRhdVi",
        "outputId": "e80cec57-dcd5-4421-aad7-f537f7f899e3"
      },
      "source": [
        "search_term = pol.copy()\n",
        "search_term['xj'] = [1 if term == 'Xinjiang' else 0 for term in search_term['term']]\n",
        "search_term['xj_t'] = [1 if term == 'Xinjiang Terrorism' else 0 for term in search_term['term']]\n",
        "search_term['xj_u'] = [1 if term == 'Xinjiang Uighurs' else 0 for term in search_term['term']]\n",
        "search_term = search_term.drop(['term', 'supports', 'pol_stance', 'vid_stance', 'rank'], axis=1)\n",
        "search_term"
      ],
      "execution_count": 113,
      "outputs": [
        {
          "output_type": "execute_result",
          "data": {
            "text/html": [
              "<div>\n",
              "<style scoped>\n",
              "    .dataframe tbody tr th:only-of-type {\n",
              "        vertical-align: middle;\n",
              "    }\n",
              "\n",
              "    .dataframe tbody tr th {\n",
              "        vertical-align: top;\n",
              "    }\n",
              "\n",
              "    .dataframe thead th {\n",
              "        text-align: right;\n",
              "    }\n",
              "</style>\n",
              "<table border=\"1\" class=\"dataframe\">\n",
              "  <thead>\n",
              "    <tr style=\"text-align: right;\">\n",
              "      <th></th>\n",
              "      <th>pro_china</th>\n",
              "      <th>balanced</th>\n",
              "      <th>critical</th>\n",
              "      <th>xj</th>\n",
              "      <th>xj_t</th>\n",
              "      <th>xj_u</th>\n",
              "    </tr>\n",
              "  </thead>\n",
              "  <tbody>\n",
              "    <tr>\n",
              "      <th>0</th>\n",
              "      <td>1.0000</td>\n",
              "      <td>0.0</td>\n",
              "      <td>0.000000</td>\n",
              "      <td>1</td>\n",
              "      <td>0</td>\n",
              "      <td>0</td>\n",
              "    </tr>\n",
              "    <tr>\n",
              "      <th>1</th>\n",
              "      <td>0.0000</td>\n",
              "      <td>0.0</td>\n",
              "      <td>0.500000</td>\n",
              "      <td>1</td>\n",
              "      <td>0</td>\n",
              "      <td>0</td>\n",
              "    </tr>\n",
              "    <tr>\n",
              "      <th>2</th>\n",
              "      <td>0.0000</td>\n",
              "      <td>0.0</td>\n",
              "      <td>0.333333</td>\n",
              "      <td>1</td>\n",
              "      <td>0</td>\n",
              "      <td>0</td>\n",
              "    </tr>\n",
              "    <tr>\n",
              "      <th>3</th>\n",
              "      <td>0.2500</td>\n",
              "      <td>0.0</td>\n",
              "      <td>0.000000</td>\n",
              "      <td>1</td>\n",
              "      <td>0</td>\n",
              "      <td>0</td>\n",
              "    </tr>\n",
              "    <tr>\n",
              "      <th>4</th>\n",
              "      <td>0.0000</td>\n",
              "      <td>0.2</td>\n",
              "      <td>0.000000</td>\n",
              "      <td>1</td>\n",
              "      <td>0</td>\n",
              "      <td>0</td>\n",
              "    </tr>\n",
              "    <tr>\n",
              "      <th>...</th>\n",
              "      <td>...</td>\n",
              "      <td>...</td>\n",
              "      <td>...</td>\n",
              "      <td>...</td>\n",
              "      <td>...</td>\n",
              "      <td>...</td>\n",
              "    </tr>\n",
              "    <tr>\n",
              "      <th>895</th>\n",
              "      <td>0.0625</td>\n",
              "      <td>0.0</td>\n",
              "      <td>0.000000</td>\n",
              "      <td>0</td>\n",
              "      <td>0</td>\n",
              "      <td>1</td>\n",
              "    </tr>\n",
              "    <tr>\n",
              "      <th>896</th>\n",
              "      <td>0.0000</td>\n",
              "      <td>0.0</td>\n",
              "      <td>0.058824</td>\n",
              "      <td>0</td>\n",
              "      <td>0</td>\n",
              "      <td>1</td>\n",
              "    </tr>\n",
              "    <tr>\n",
              "      <th>897</th>\n",
              "      <td>0.0000</td>\n",
              "      <td>0.0</td>\n",
              "      <td>0.055556</td>\n",
              "      <td>0</td>\n",
              "      <td>0</td>\n",
              "      <td>1</td>\n",
              "    </tr>\n",
              "    <tr>\n",
              "      <th>898</th>\n",
              "      <td>0.0000</td>\n",
              "      <td>0.0</td>\n",
              "      <td>0.052632</td>\n",
              "      <td>0</td>\n",
              "      <td>0</td>\n",
              "      <td>1</td>\n",
              "    </tr>\n",
              "    <tr>\n",
              "      <th>899</th>\n",
              "      <td>0.0000</td>\n",
              "      <td>0.0</td>\n",
              "      <td>0.050000</td>\n",
              "      <td>0</td>\n",
              "      <td>0</td>\n",
              "      <td>1</td>\n",
              "    </tr>\n",
              "  </tbody>\n",
              "</table>\n",
              "<p>900 rows × 6 columns</p>\n",
              "</div>"
            ],
            "text/plain": [
              "     pro_china  balanced  critical  xj  xj_t  xj_u\n",
              "0       1.0000       0.0  0.000000   1     0     0\n",
              "1       0.0000       0.0  0.500000   1     0     0\n",
              "2       0.0000       0.0  0.333333   1     0     0\n",
              "3       0.2500       0.0  0.000000   1     0     0\n",
              "4       0.0000       0.2  0.000000   1     0     0\n",
              "..         ...       ...       ...  ..   ...   ...\n",
              "895     0.0625       0.0  0.000000   0     0     1\n",
              "896     0.0000       0.0  0.058824   0     0     1\n",
              "897     0.0000       0.0  0.055556   0     0     1\n",
              "898     0.0000       0.0  0.052632   0     0     1\n",
              "899     0.0000       0.0  0.050000   0     0     1\n",
              "\n",
              "[900 rows x 6 columns]"
            ]
          },
          "metadata": {
            "tags": []
          },
          "execution_count": 113
        }
      ]
    },
    {
      "cell_type": "code",
      "metadata": {
        "colab": {
          "base_uri": "https://localhost:8080/",
          "height": 444
        },
        "id": "cx8mtkVyjFc0",
        "outputId": "04552fc7-85b1-47de-c102-aae5b70e91dd"
      },
      "source": [
        "dependentst1 = search_term['pro_china']\n",
        "independentst1 = search_term[['xj_t']]\n",
        "independentst1_c = sm.add_constant(independentst1)\n",
        "st1model = sm.OLS(dependentst1, \n",
        "                  independentst1_c)\n",
        "st1model = st1model.fit()\n",
        "st1model.summary()"
      ],
      "execution_count": 131,
      "outputs": [
        {
          "output_type": "execute_result",
          "data": {
            "text/html": [
              "<table class=\"simpletable\">\n",
              "<caption>OLS Regression Results</caption>\n",
              "<tr>\n",
              "  <th>Dep. Variable:</th>        <td>pro_china</td>    <th>  R-squared:         </th> <td>   0.043</td>\n",
              "</tr>\n",
              "<tr>\n",
              "  <th>Model:</th>                   <td>OLS</td>       <th>  Adj. R-squared:    </th> <td>   0.042</td>\n",
              "</tr>\n",
              "<tr>\n",
              "  <th>Method:</th>             <td>Least Squares</td>  <th>  F-statistic:       </th> <td>   40.40</td>\n",
              "</tr>\n",
              "<tr>\n",
              "  <th>Date:</th>             <td>Mon, 19 Apr 2021</td> <th>  Prob (F-statistic):</th> <td>3.28e-10</td>\n",
              "</tr>\n",
              "<tr>\n",
              "  <th>Time:</th>                 <td>15:18:38</td>     <th>  Log-Likelihood:    </th> <td>  356.79</td>\n",
              "</tr>\n",
              "<tr>\n",
              "  <th>No. Observations:</th>      <td>   900</td>      <th>  AIC:               </th> <td>  -709.6</td>\n",
              "</tr>\n",
              "<tr>\n",
              "  <th>Df Residuals:</th>          <td>   898</td>      <th>  BIC:               </th> <td>  -700.0</td>\n",
              "</tr>\n",
              "<tr>\n",
              "  <th>Df Model:</th>              <td>     1</td>      <th>                     </th>     <td> </td>   \n",
              "</tr>\n",
              "<tr>\n",
              "  <th>Covariance Type:</th>      <td>nonrobust</td>    <th>                     </th>     <td> </td>   \n",
              "</tr>\n",
              "</table>\n",
              "<table class=\"simpletable\">\n",
              "<tr>\n",
              "    <td></td>       <th>coef</th>     <th>std err</th>      <th>t</th>      <th>P>|t|</th>  <th>[0.025</th>    <th>0.975]</th>  \n",
              "</tr>\n",
              "<tr>\n",
              "  <th>const</th> <td>    0.0313</td> <td>    0.007</td> <td>    4.706</td> <td> 0.000</td> <td>    0.018</td> <td>    0.044</td>\n",
              "</tr>\n",
              "<tr>\n",
              "  <th>xj_t</th>  <td>    0.0732</td> <td>    0.012</td> <td>    6.356</td> <td> 0.000</td> <td>    0.051</td> <td>    0.096</td>\n",
              "</tr>\n",
              "</table>\n",
              "<table class=\"simpletable\">\n",
              "<tr>\n",
              "  <th>Omnibus:</th>       <td>882.161</td> <th>  Durbin-Watson:     </th> <td>   1.871</td> \n",
              "</tr>\n",
              "<tr>\n",
              "  <th>Prob(Omnibus):</th> <td> 0.000</td>  <th>  Jarque-Bera (JB):  </th> <td>24797.931</td>\n",
              "</tr>\n",
              "<tr>\n",
              "  <th>Skew:</th>          <td> 4.782</td>  <th>  Prob(JB):          </th> <td>    0.00</td> \n",
              "</tr>\n",
              "<tr>\n",
              "  <th>Kurtosis:</th>      <td>26.870</td>  <th>  Cond. No.          </th> <td>    2.41</td> \n",
              "</tr>\n",
              "</table><br/><br/>Warnings:<br/>[1] Standard Errors assume that the covariance matrix of the errors is correctly specified."
            ],
            "text/plain": [
              "<class 'statsmodels.iolib.summary.Summary'>\n",
              "\"\"\"\n",
              "                            OLS Regression Results                            \n",
              "==============================================================================\n",
              "Dep. Variable:              pro_china   R-squared:                       0.043\n",
              "Model:                            OLS   Adj. R-squared:                  0.042\n",
              "Method:                 Least Squares   F-statistic:                     40.40\n",
              "Date:                Mon, 19 Apr 2021   Prob (F-statistic):           3.28e-10\n",
              "Time:                        15:18:38   Log-Likelihood:                 356.79\n",
              "No. Observations:                 900   AIC:                            -709.6\n",
              "Df Residuals:                     898   BIC:                            -700.0\n",
              "Df Model:                           1                                         \n",
              "Covariance Type:            nonrobust                                         \n",
              "==============================================================================\n",
              "                 coef    std err          t      P>|t|      [0.025      0.975]\n",
              "------------------------------------------------------------------------------\n",
              "const          0.0313      0.007      4.706      0.000       0.018       0.044\n",
              "xj_t           0.0732      0.012      6.356      0.000       0.051       0.096\n",
              "==============================================================================\n",
              "Omnibus:                      882.161   Durbin-Watson:                   1.871\n",
              "Prob(Omnibus):                  0.000   Jarque-Bera (JB):            24797.931\n",
              "Skew:                           4.782   Prob(JB):                         0.00\n",
              "Kurtosis:                      26.870   Cond. No.                         2.41\n",
              "==============================================================================\n",
              "\n",
              "Warnings:\n",
              "[1] Standard Errors assume that the covariance matrix of the errors is correctly specified.\n",
              "\"\"\""
            ]
          },
          "metadata": {
            "tags": []
          },
          "execution_count": 131
        }
      ]
    },
    {
      "cell_type": "code",
      "metadata": {
        "colab": {
          "base_uri": "https://localhost:8080/",
          "height": 444
        },
        "id": "2tIgWlgAncaK",
        "outputId": "e83fd21b-b7e0-44ba-cf22-9fc549976f1b"
      },
      "source": [
        "dependentst2 = search_term['critical']\n",
        "independentst2 = search_term[['xj_u']]\n",
        "independentst2_c = sm.add_constant(independentst2)\n",
        "st2model = sm.OLS(dependentst2, \n",
        "                  independentst2_c)\n",
        "st2model = st2model.fit()\n",
        "st2model.summary()"
      ],
      "execution_count": 128,
      "outputs": [
        {
          "output_type": "execute_result",
          "data": {
            "text/html": [
              "<table class=\"simpletable\">\n",
              "<caption>OLS Regression Results</caption>\n",
              "<tr>\n",
              "  <th>Dep. Variable:</th>        <td>critical</td>     <th>  R-squared:         </th> <td>   0.098</td>\n",
              "</tr>\n",
              "<tr>\n",
              "  <th>Model:</th>                   <td>OLS</td>       <th>  Adj. R-squared:    </th> <td>   0.097</td>\n",
              "</tr>\n",
              "<tr>\n",
              "  <th>Method:</th>             <td>Least Squares</td>  <th>  F-statistic:       </th> <td>   98.11</td>\n",
              "</tr>\n",
              "<tr>\n",
              "  <th>Date:</th>             <td>Mon, 19 Apr 2021</td> <th>  Prob (F-statistic):</th> <td>5.06e-22</td>\n",
              "</tr>\n",
              "<tr>\n",
              "  <th>Time:</th>                 <td>15:18:17</td>     <th>  Log-Likelihood:    </th> <td>  348.22</td>\n",
              "</tr>\n",
              "<tr>\n",
              "  <th>No. Observations:</th>      <td>   900</td>      <th>  AIC:               </th> <td>  -692.4</td>\n",
              "</tr>\n",
              "<tr>\n",
              "  <th>Df Residuals:</th>          <td>   898</td>      <th>  BIC:               </th> <td>  -682.8</td>\n",
              "</tr>\n",
              "<tr>\n",
              "  <th>Df Model:</th>              <td>     1</td>      <th>                     </th>     <td> </td>   \n",
              "</tr>\n",
              "<tr>\n",
              "  <th>Covariance Type:</th>      <td>nonrobust</td>    <th>                     </th>     <td> </td>   \n",
              "</tr>\n",
              "</table>\n",
              "<table class=\"simpletable\">\n",
              "<tr>\n",
              "    <td></td>       <th>coef</th>     <th>std err</th>      <th>t</th>      <th>P>|t|</th>  <th>[0.025</th>    <th>0.975]</th>  \n",
              "</tr>\n",
              "<tr>\n",
              "  <th>const</th> <td>    0.0569</td> <td>    0.007</td> <td>    8.474</td> <td> 0.000</td> <td>    0.044</td> <td>    0.070</td>\n",
              "</tr>\n",
              "<tr>\n",
              "  <th>xj_u</th>  <td>    0.1152</td> <td>    0.012</td> <td>    9.905</td> <td> 0.000</td> <td>    0.092</td> <td>    0.138</td>\n",
              "</tr>\n",
              "</table>\n",
              "<table class=\"simpletable\">\n",
              "<tr>\n",
              "  <th>Omnibus:</th>       <td>689.388</td> <th>  Durbin-Watson:     </th> <td>   1.485</td>\n",
              "</tr>\n",
              "<tr>\n",
              "  <th>Prob(Omnibus):</th> <td> 0.000</td>  <th>  Jarque-Bera (JB):  </th> <td>9939.070</td>\n",
              "</tr>\n",
              "<tr>\n",
              "  <th>Skew:</th>          <td> 3.512</td>  <th>  Prob(JB):          </th> <td>    0.00</td>\n",
              "</tr>\n",
              "<tr>\n",
              "  <th>Kurtosis:</th>      <td>17.687</td>  <th>  Cond. No.          </th> <td>    2.41</td>\n",
              "</tr>\n",
              "</table><br/><br/>Warnings:<br/>[1] Standard Errors assume that the covariance matrix of the errors is correctly specified."
            ],
            "text/plain": [
              "<class 'statsmodels.iolib.summary.Summary'>\n",
              "\"\"\"\n",
              "                            OLS Regression Results                            \n",
              "==============================================================================\n",
              "Dep. Variable:               critical   R-squared:                       0.098\n",
              "Model:                            OLS   Adj. R-squared:                  0.097\n",
              "Method:                 Least Squares   F-statistic:                     98.11\n",
              "Date:                Mon, 19 Apr 2021   Prob (F-statistic):           5.06e-22\n",
              "Time:                        15:18:17   Log-Likelihood:                 348.22\n",
              "No. Observations:                 900   AIC:                            -692.4\n",
              "Df Residuals:                     898   BIC:                            -682.8\n",
              "Df Model:                           1                                         \n",
              "Covariance Type:            nonrobust                                         \n",
              "==============================================================================\n",
              "                 coef    std err          t      P>|t|      [0.025      0.975]\n",
              "------------------------------------------------------------------------------\n",
              "const          0.0569      0.007      8.474      0.000       0.044       0.070\n",
              "xj_u           0.1152      0.012      9.905      0.000       0.092       0.138\n",
              "==============================================================================\n",
              "Omnibus:                      689.388   Durbin-Watson:                   1.485\n",
              "Prob(Omnibus):                  0.000   Jarque-Bera (JB):             9939.070\n",
              "Skew:                           3.512   Prob(JB):                         0.00\n",
              "Kurtosis:                      17.687   Cond. No.                         2.41\n",
              "==============================================================================\n",
              "\n",
              "Warnings:\n",
              "[1] Standard Errors assume that the covariance matrix of the errors is correctly specified.\n",
              "\"\"\""
            ]
          },
          "metadata": {
            "tags": []
          },
          "execution_count": 128
        }
      ]
    }
  ]
}